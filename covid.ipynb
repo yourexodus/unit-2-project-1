{
 "cells": [
  {
   "cell_type": "markdown",
   "metadata": {},
   "source": [
    "<img src=\"http://imgur.com/1ZcRyrc.png\" style=\"float: left; margin: 20px; height: 55px\">\n",
    "\n",
    "# Project 2: Analyzing Covid-19 Data\n",
    "\n",
    "_Author: B Rhodes (DC)_\n",
    "\n",
    "---"
   ]
  },
  {
   "cell_type": "markdown",
   "metadata": {},
   "source": [
    "For Project 2, you'll be using Python to perform fundamental exploratory data analysis (EDA) tasks. In the other notebook in this project, we can use Pandas, but this notebook you should only use Python. The purpose here is to flex your Python muscles while thinking about data.\n",
    "\n",
    "Below you'll import a data file with information on Covid-19 in a number of patients from the Cleveland Clinic. The original data along with a data dictionary can be found at the [John Hopkins University: CSSEGISandData/COVID-19](https://github.com/CSSEGISandData/COVID-19/tree/master/csse_covid_19_data). \n",
    "\n",
    "\n",
    "For these exercises, you will conduct basic exploratory data analysis using Python (Pandas is not allowed for this notebook). The goal is to understand the some fundamentals of the COVID-19 data: These exercises will allow you to practice business analysis skills while also becoming more comfortable with Python."
   ]
  },
  {
   "cell_type": "markdown",
   "metadata": {},
   "source": [
    "---\n",
    "\n",
    "## Part 1: Load the data & initial exploration"
   ]
  },
  {
   "cell_type": "markdown",
   "metadata": {},
   "source": [
    "### Problem 1: Load the file and store it in an object called `covid_csv`.\n",
    "\n",
    "Hint: This is a csv (comma-separated value) file, so we'll use `csv.reader()` \n",
    "\n",
    "See: [Python Docs - csv](https://docs.python.org/2/library/csv.html).\n",
    "\n"
   ]
  },
  {
   "cell_type": "code",
   "execution_count": 3,
   "metadata": {
    "ExecuteTime": {
     "end_time": "2020-08-14T08:48:00.803445Z",
     "start_time": "2020-08-14T08:48:00.786213Z"
    }
   },
   "outputs": [],
   "source": [
    "import csv\n",
    "\n",
    "# import namedtuple as an option to store the data rows\n",
    "from collections import namedtuple, defaultdict\n",
    "\n",
    "DATA_FILE = './data/covid.csv'\n"
   ]
  },
  {
   "cell_type": "markdown",
   "metadata": {},
   "source": [
    "#### Load the data"
   ]
  },
  {
   "cell_type": "code",
   "execution_count": 4,
   "metadata": {
    "ExecuteTime": {
     "end_time": "2020-08-14T08:48:35.742763Z",
     "start_time": "2020-08-14T08:48:35.712230Z"
    }
   },
   "outputs": [],
   "source": [
    "with open(DATA_FILE, 'r') as f:\n",
    "    covid_csv = [row for row in csv.reader(f)]"
   ]
  },
  {
   "cell_type": "markdown",
   "metadata": {},
   "source": [
    "### Problem 2: Separate ```covid_csv``` into a `header` and `data`. \n",
    "\n",
    "Complete the following tasks:\n",
    "\n",
    "1. Split the covid_csv object into a ```header``` and ```data```.\n",
    "    1. display the ```header```\n",
    "    2. display the first 3 rows of ```data```.\n",
    "2. What are dimensions of your data? Print the result (neatly formatted and each dimension identified.)\n"
   ]
  },
  {
   "cell_type": "markdown",
   "metadata": {},
   "source": [
    "**Define the header and display the contents.**"
   ]
  },
  {
   "cell_type": "code",
   "execution_count": 5,
   "metadata": {
    "ExecuteTime": {
     "end_time": "2020-08-14T08:48:37.324846Z",
     "start_time": "2020-08-14T08:48:37.313307Z"
    },
    "scrolled": true
   },
   "outputs": [
    {
     "data": {
      "text/plain": [
       "['Combined_Key',\n",
       " 'Country_Region',\n",
       " 'Confirmed',\n",
       " 'Deaths',\n",
       " 'Recovered',\n",
       " 'Active',\n",
       " 'Incidence_Rate',\n",
       " 'Case_Fatality_Ratio']"
      ]
     },
     "execution_count": 5,
     "metadata": {},
     "output_type": "execute_result"
    }
   ],
   "source": [
    "header = covid_csv[0]\n",
    "header"
   ]
  },
  {
   "cell_type": "markdown",
   "metadata": {},
   "source": [
    "**Define the data and display the first 3 rows.**"
   ]
  },
  {
   "cell_type": "code",
   "execution_count": 6,
   "metadata": {
    "ExecuteTime": {
     "end_time": "2020-08-14T08:48:37.844128Z",
     "start_time": "2020-08-14T08:48:37.837074Z"
    },
    "scrolled": false
   },
   "outputs": [
    {
     "data": {
      "text/plain": [
       "[['Afghanistan',\n",
       "  'Afghanistan',\n",
       "  '37345',\n",
       "  '1354',\n",
       "  '26694',\n",
       "  '9297.0',\n",
       "  '95.93267794278722',\n",
       "  '3.6256526978176464'],\n",
       " ['Albania',\n",
       "  'Albania',\n",
       "  '6817',\n",
       "  '208',\n",
       "  '3552',\n",
       "  '3057.0',\n",
       "  '236.882340676906',\n",
       "  '3.0511955405603635'],\n",
       " ['Algeria',\n",
       "  'Algeria',\n",
       "  '36699',\n",
       "  '1333',\n",
       "  '25627',\n",
       "  '9739.0',\n",
       "  '83.69014164611774',\n",
       "  '3.6322515599880094']]"
      ]
     },
     "execution_count": 6,
     "metadata": {},
     "output_type": "execute_result"
    }
   ],
   "source": [
    "# Assign the data only\n",
    "# display the first 3 rows\n",
    "data = covid_csv[1:]\n",
    "data[0:3] "
   ]
  },
  {
   "cell_type": "markdown",
   "metadata": {},
   "source": [
    "**Bonus: Use ```namedtuple``` to assign the data.**"
   ]
  },
  {
   "cell_type": "code",
   "execution_count": 7,
   "metadata": {
    "ExecuteTime": {
     "end_time": "2020-08-14T08:48:38.723883Z",
     "start_time": "2020-08-14T08:48:38.714643Z"
    },
    "scrolled": false
   },
   "outputs": [],
   "source": [
    "# Alternative : use namedtuple\n",
    "# define the namedtuple called CovidData and assign column names\n",
    "covid_data = namedtuple('CovidData',header)\n",
    "\n",
    "# create the tuples from the original data\n",
    "# use a list comprehension for compactness - could also be a for-loop.\n",
    "data_named = []\n",
    "#List of tuples\n",
    "for row in covid_csv[1:]:\n",
    "     data_named.append(covid_data._make(row))"
   ]
  },
  {
   "cell_type": "markdown",
   "metadata": {
    "ExecuteTime": {
     "end_time": "2020-08-13T02:39:10.637414Z",
     "start_time": "2020-08-13T02:39:10.631934Z"
    }
   },
   "source": [
    "**How many rows and how many columns?**"
   ]
  },
  {
   "cell_type": "code",
   "execution_count": 8,
   "metadata": {
    "ExecuteTime": {
     "end_time": "2020-08-14T08:48:39.805222Z",
     "start_time": "2020-08-14T08:48:39.801020Z"
    }
   },
   "outputs": [
    {
     "name": "stdout",
     "output_type": "stream",
     "text": [
      "Rows in data: 3941\n",
      "Columns in data? 8\n"
     ]
    }
   ],
   "source": [
    "# print the rows and columns in data - label the output\n",
    "print(f\"Rows in data: {len(data)}\")\n",
    " \n",
    "print(f\"Columns in data? {len(data[0])}\") "
   ]
  },
  {
   "cell_type": "code",
   "execution_count": 9,
   "metadata": {
    "ExecuteTime": {
     "end_time": "2020-08-14T08:48:40.065813Z",
     "start_time": "2020-08-14T08:48:40.061274Z"
    }
   },
   "outputs": [
    {
     "name": "stdout",
     "output_type": "stream",
     "text": [
      "Rows in namedtuple: 3941\n",
      "Columns in namedtuple: 8\n"
     ]
    }
   ],
   "source": [
    "# print the rows and columns in the namedtuple data_named - label the output\n",
    "len_data_named = len(data_named[:])\n",
    "print(f\"Rows in namedtuple: {len_data_named}\")\n",
    " \n",
    "print(f\"Columns in namedtuple: {len(covid_data._fields )}\")"
   ]
  },
  {
   "cell_type": "markdown",
   "metadata": {},
   "source": [
    "### Problem 3: Check the data type of each column and convert all numeric values to floats. \n",
    "\n",
    "Complete the following tasks:\n",
    "\n",
    "1. Check data types (you only have to do this for one row).\n",
    "2. Convert all numeric values to floats.\n",
    "\n",
    "\n",
    "Note: only print the data type once per column (i.e. only do this for 1 row of data. \n",
    "\n",
    "**Format your output neatly and annotate properly.** Unannotated lists of data types will not receive credit. This means you should match each column name to a data type and display the combination."
   ]
  },
  {
   "cell_type": "code",
   "execution_count": 10,
   "metadata": {
    "ExecuteTime": {
     "end_time": "2020-08-14T08:48:40.615195Z",
     "start_time": "2020-08-14T08:48:40.609072Z"
    }
   },
   "outputs": [
    {
     "name": "stdout",
     "output_type": "stream",
     "text": [
      "Combined_Key  <class 'str'>\n",
      "Country_Region  <class 'str'>\n",
      "Confirmed  <class 'str'>\n",
      "Deaths  <class 'str'>\n",
      "Recovered  <class 'str'>\n",
      "Active  <class 'str'>\n",
      "Incidence_Rate  <class 'str'>\n",
      "Case_Fatality_Ratio  <class 'str'>\n"
     ]
    }
   ],
   "source": [
    "# check data types for each column\n",
    "for i,col in enumerate(data[0]):\n",
    "    print( header[i],\"\",type(col))"
   ]
  },
  {
   "cell_type": "code",
   "execution_count": 11,
   "metadata": {
    "ExecuteTime": {
     "end_time": "2020-08-14T08:48:40.916301Z",
     "start_time": "2020-08-14T08:48:40.910649Z"
    },
    "scrolled": true
   },
   "outputs": [
    {
     "name": "stdout",
     "output_type": "stream",
     "text": [
      "Combined_Key <class 'str'>\n",
      "Country_Region <class 'str'>\n",
      "Confirmed <class 'str'>\n",
      "Deaths <class 'str'>\n",
      "Recovered <class 'str'>\n",
      "Active <class 'str'>\n",
      "Incidence_Rate <class 'str'>\n",
      "Case_Fatality_Ratio <class 'str'>\n"
     ]
    }
   ],
   "source": [
    "# check data types for each column\n",
    "for x in data_named[0:1] :\n",
    "    for i in range(len(covid_data._fields)):\n",
    "        print( covid_data._fields[i],type(x[i]))"
   ]
  },
  {
   "cell_type": "markdown",
   "metadata": {},
   "source": [
    "#### Convert numeric data to floats.\n",
    "1. use a loop to convert only the numeric data (i.e. numbers represented as strings) to float values. You'll have to come up with a way to skip the non-numeric data.\n",
    "\n",
    "2. If you used namedtuples this is a little trickier since namedtuples are immutable (can't be changed).\n",
    "\n",
    "Hint: you need to use a placeholder data type that you can convert the values. After conversion put everything back into a namedtuple."
   ]
  },
  {
   "cell_type": "markdown",
   "metadata": {},
   "source": [
    "##### Convert the appropriate elements of ```data``` to floats."
   ]
  },
  {
   "cell_type": "code",
   "execution_count": 12,
   "metadata": {
    "ExecuteTime": {
     "end_time": "2020-08-14T08:48:41.787129Z",
     "start_time": "2020-08-14T08:48:41.765082Z"
    }
   },
   "outputs": [
    {
     "name": "stdout",
     "output_type": "stream",
     "text": [
      "['Afghanistan', 'Afghanistan', 37345.0, 1354.0, 26694.0, 9297.0, 95.93267794278722, 3.6256526978176464]\n",
      "['Albania', 'Albania', 6817.0, 208.0, 3552.0, 3057.0, 236.882340676906, 3.0511955405603635]\n",
      "['Algeria', 'Algeria', 36699.0, 1333.0, 25627.0, 9739.0, 83.69014164611774, 3.6322515599880094]\n",
      "['Andorra', 'Andorra', 977.0, 53.0, 855.0, 69.0, 1264.4793891153822, 5.424769703172978]\n",
      "['Angola', 'Angola', 1762.0, 80.0, 577.0, 1105.0, 5.361119796138704, 4.540295119182747]\n",
      "['Antigua and Barbuda', 'Antigua and Barbuda', 92.0, 3.0, 76.0, 13.0, 93.94657299240258, 3.260869565217391]\n"
     ]
    }
   ],
   "source": [
    "# convert all numerical data to floats.\n",
    "clean_data = []\n",
    "\n",
    "for row in data :\n",
    "    new_row  =  [col if i < 2 else  float(col)  for i,col in enumerate(row) ]\n",
    "    clean_data.append(new_row )\n",
    " \n",
    "for i in range(6):  \n",
    "    print(clean_data[i]) "
   ]
  },
  {
   "cell_type": "markdown",
   "metadata": {},
   "source": [
    "##### an alternative approach to convert the elements of ```data``` to floats."
   ]
  },
  {
   "cell_type": "code",
   "execution_count": 13,
   "metadata": {
    "ExecuteTime": {
     "end_time": "2020-08-14T08:48:42.317076Z",
     "start_time": "2020-08-14T08:48:42.304873Z"
    }
   },
   "outputs": [
    {
     "name": "stdout",
     "output_type": "stream",
     "text": [
      "['Afghanistan', 'Afghanistan', 37345.0, 1354.0, 26694.0, 9297.0, 95.93267794278722, 3.6256526978176464]\n",
      "['Albania', 'Albania', 6817.0, 208.0, 3552.0, 3057.0, 236.882340676906, 3.0511955405603635]\n",
      "['Algeria', 'Algeria', 36699.0, 1333.0, 25627.0, 9739.0, 83.69014164611774, 3.6322515599880094]\n",
      "['Andorra', 'Andorra', 977.0, 53.0, 855.0, 69.0, 1264.4793891153822, 5.424769703172978]\n",
      "['Angola', 'Angola', 1762.0, 80.0, 577.0, 1105.0, 5.361119796138704, 4.540295119182747]\n",
      "['Antigua and Barbuda', 'Antigua and Barbuda', 92.0, 3.0, 76.0, 13.0, 93.94657299240258, 3.260869565217391]\n"
     ]
    }
   ],
   "source": [
    "# convert all numerical data to floats.\n",
    "clean_data = []\n",
    "\n",
    "for row in data :\n",
    "    new_row = []\n",
    "    \n",
    "    for i, col in enumerate(row):      #loop every item in that row. Row = row, i = index, col is the actual text\n",
    "         \n",
    "        if i < 2 :                   #do not need to check for the first 2 columns: last, first, sex\n",
    "            new_row.append(col)\n",
    "        else:\n",
    "            new_row.append(float(col))     #convert to float\n",
    "            \n",
    "    clean_data.append(new_row)           #add new row to Clean data array\n",
    " \n",
    "for i in range(6):  \n",
    "    print(clean_data[i]) "
   ]
  },
  {
   "cell_type": "markdown",
   "metadata": {},
   "source": [
    "##### Convert the appropriate elements of data_named to floats.\n",
    "Note that this is a touch more complicated since namedtuples are immutable and elements cannot be changed. \n",
    "\n",
    "So the approach is to create a dictionary for each row and add each element of the namedtuples to the dictionary, converting the type when necessary. We end up with a list of dictionaries with all the same information, but all numerical values are now floats."
   ]
  },
  {
   "cell_type": "code",
   "execution_count": 14,
   "metadata": {},
   "outputs": [
    {
     "data": {
      "text/plain": [
       "[CovidData(Combined_Key='Afghanistan', Country_Region='Afghanistan', Confirmed='37345', Deaths='1354', Recovered='26694', Active='9297.0', Incidence_Rate='95.93267794278722', Case_Fatality_Ratio='3.6256526978176464'),\n",
       " CovidData(Combined_Key='Albania', Country_Region='Albania', Confirmed='6817', Deaths='208', Recovered='3552', Active='3057.0', Incidence_Rate='236.882340676906', Case_Fatality_Ratio='3.0511955405603635'),\n",
       " CovidData(Combined_Key='Algeria', Country_Region='Algeria', Confirmed='36699', Deaths='1333', Recovered='25627', Active='9739.0', Incidence_Rate='83.69014164611774', Case_Fatality_Ratio='3.6322515599880094')]"
      ]
     },
     "execution_count": 14,
     "metadata": {},
     "output_type": "execute_result"
    }
   ],
   "source": [
    "data_named[0:3]"
   ]
  },
  {
   "cell_type": "code",
   "execution_count": 15,
   "metadata": {},
   "outputs": [
    {
     "data": {
      "text/plain": [
       "3941"
      ]
     },
     "execution_count": 15,
     "metadata": {},
     "output_type": "execute_result"
    }
   ],
   "source": [
    "len_data_named"
   ]
  },
  {
   "cell_type": "code",
   "execution_count": 16,
   "metadata": {},
   "outputs": [],
   "source": [
    "# namedtuple approach \n",
    "\n",
    "i = 0\n",
    "for x in data_named[:] : \n",
    "    tuple_row = []\n",
    "     \n",
    "    tuple_row.append(x.Combined_Key)   \n",
    "    tuple_row.append(x.Country_Region)   \n",
    "    tuple_row.append(float(x.Confirmed ))  \n",
    "    tuple_row.append(float(x.Deaths))  \n",
    "    tuple_row.append(float(x.Recovered))  \n",
    "    tuple_row.append(float(x.Active ))  \n",
    "    tuple_row.append(float(x.Incidence_Rate) )  \n",
    "    tuple_row.append(float(x.Case_Fatality_Ratio))\n",
    "    data_named[i] = covid_data._make(tuple(tuple_row) )\n",
    "    i+=1"
   ]
  },
  {
   "cell_type": "code",
   "execution_count": 29,
   "metadata": {},
   "outputs": [
    {
     "data": {
      "text/plain": [
       "[CovidData(Combined_Key='Afghanistan', Country_Region='Afghanistan', Confirmed=37345.0, Deaths=1354.0, Recovered=26694.0, Active='9297.0', Incidence_Rate='95.93267794278722', Case_Fatality_Ratio='3.6256526978176464'),\n",
       " CovidData(Combined_Key='Albania', Country_Region='Albania', Confirmed=6817.0, Deaths=208.0, Recovered=3552.0, Active='3057.0', Incidence_Rate='236.882340676906', Case_Fatality_Ratio='3.0511955405603635'),\n",
       " CovidData(Combined_Key='Algeria', Country_Region='Algeria', Confirmed=36699.0, Deaths=1333.0, Recovered=25627.0, Active='9739.0', Incidence_Rate='83.69014164611774', Case_Fatality_Ratio='3.6322515599880094')]"
      ]
     },
     "execution_count": 29,
     "metadata": {},
     "output_type": "execute_result"
    }
   ],
   "source": [
    "# check the result - \n",
    "data_named[0:3]"
   ]
  },
  {
   "cell_type": "code",
   "execution_count": 30,
   "metadata": {},
   "outputs": [],
   "source": [
    "# alternative approach\n",
    "\n",
    "# use a list comprehension for compactness - could also be a for-loop.\n",
    "data_named2 = []\n",
    "#List of tuples\n",
    "for row in covid_csv[1:]:\n",
    "     data_named2.append(covid_data._make(row))"
   ]
  },
  {
   "cell_type": "code",
   "execution_count": 31,
   "metadata": {},
   "outputs": [
    {
     "data": {
      "text/plain": [
       "[CovidData(Combined_Key='Afghanistan', Country_Region='Afghanistan', Confirmed='37345', Deaths='1354', Recovered='26694', Active='9297.0', Incidence_Rate='95.93267794278722', Case_Fatality_Ratio='3.6256526978176464'),\n",
       " CovidData(Combined_Key='Albania', Country_Region='Albania', Confirmed='6817', Deaths='208', Recovered='3552', Active='3057.0', Incidence_Rate='236.882340676906', Case_Fatality_Ratio='3.0511955405603635'),\n",
       " CovidData(Combined_Key='Algeria', Country_Region='Algeria', Confirmed='36699', Deaths='1333', Recovered='25627', Active='9739.0', Incidence_Rate='83.69014164611774', Case_Fatality_Ratio='3.6322515599880094')]"
      ]
     },
     "execution_count": 31,
     "metadata": {},
     "output_type": "execute_result"
    }
   ],
   "source": [
    "data_named2[0:3]"
   ]
  },
  {
   "cell_type": "code",
   "execution_count": 32,
   "metadata": {},
   "outputs": [],
   "source": [
    "\n",
    "#check if col is numeric or col is a string with digits the convert to a float\n",
    "def convert_namedtuple(tuple_): \n",
    "    \n",
    "    x=([float(i)\n",
    "        if (isinstance(i, str) and i.isdigit()) or isinstance(i, int) or isinstance(i, float)  \n",
    "        else i for a,i in enumerate(tuple_) ])\n",
    "    return tuple(x) "
   ]
  },
  {
   "cell_type": "code",
   "execution_count": 33,
   "metadata": {},
   "outputs": [],
   "source": [
    "for i , row in enumerate (data_named2):\n",
    "    data_named2[i] = covid_data._make(convert_namedtuple(row))  #update tuple array with converted named tuple"
   ]
  },
  {
   "cell_type": "code",
   "execution_count": 28,
   "metadata": {},
   "outputs": [
    {
     "data": {
      "text/plain": [
       "[CovidData(Combined_Key='Afghanistan', Country_Region='Afghanistan', Confirmed=37345.0, Deaths=1354.0, Recovered=26694.0, Active='9297.0', Incidence_Rate='95.93267794278722', Case_Fatality_Ratio='3.6256526978176464'),\n",
       " CovidData(Combined_Key='Albania', Country_Region='Albania', Confirmed=6817.0, Deaths=208.0, Recovered=3552.0, Active='3057.0', Incidence_Rate='236.882340676906', Case_Fatality_Ratio='3.0511955405603635'),\n",
       " CovidData(Combined_Key='Algeria', Country_Region='Algeria', Confirmed=36699.0, Deaths=1333.0, Recovered=25627.0, Active='9739.0', Incidence_Rate='83.69014164611774', Case_Fatality_Ratio='3.6322515599880094')]"
      ]
     },
     "execution_count": 28,
     "metadata": {},
     "output_type": "execute_result"
    }
   ],
   "source": [
    "\n",
    "# check the result - \n",
    "\n",
    "data_named2[0:3]"
   ]
  },
  {
   "cell_type": "markdown",
   "metadata": {},
   "source": [
    "### Part 4: Calculate the average number of active cases and average number of deaths.\n",
    "\n",
    "1. Compute the average for active cases\n",
    "2. Compute the average number of deaths.\n",
    "3. Compute the average total number of cases.\n",
    "\n",
    "Hint: Review the data dictionary to determine the correct information to use.\n",
    "\n",
    "Hint: Don't over think this. Try to find the simplest approach.\n"
   ]
  },
  {
   "cell_type": "markdown",
   "metadata": {},
   "source": [
    "#### Find the average using the standard ```data```"
   ]
  },
  {
   "cell_type": "code",
   "execution_count": 21,
   "metadata": {
    "ExecuteTime": {
     "end_time": "2020-08-14T08:48:44.417847Z",
     "start_time": "2020-08-14T08:48:44.413006Z"
    }
   },
   "outputs": [
    {
     "name": "stdout",
     "output_type": "stream",
     "text": [
      "average for active cases 1789.29\n",
      "average number of deaths 190.2\n"
     ]
    }
   ],
   "source": [
    "# Create a list for active case counts and deaths\n",
    "active_cases = [row[5] for row in clean_data]\n",
    "death_cases = [row[3] for row in clean_data]\n",
    "\n",
    "#1.Compute the average  \n",
    "avg_active_cases = round(sum(active_cases)/len(active_cases),2)\n",
    "avg_death_cases = round(sum(death_cases)/len(death_cases),2)\n",
    "\n",
    "#2.Display results\n",
    "print(f\"average for active cases {avg_active_cases}\")\n",
    "#2.Compute the average number of deaths.\n",
    "print(f\"average number of deaths {avg_death_cases}\")"
   ]
  },
  {
   "cell_type": "code",
   "execution_count": 22,
   "metadata": {},
   "outputs": [],
   "source": [
    "#col3 = death, col4 =recovered , col5=active\n",
    "def get_country_avg(death,recovered,active):\n",
    "    calc_avg = 0\n",
    "    if death is not None:\n",
    "           calc_avg += death\n",
    "    if recovered is not None:\n",
    "           calc_avg += recovered\n",
    "    if active is not None:\n",
    "           calc_avg += active\n",
    "            #calc_avg = round(sum(death + recovered + active) / len(clean_data),2)\n",
    "    return round(calc_avg / len(data),2)"
   ]
  },
  {
   "cell_type": "code",
   "execution_count": 23,
   "metadata": {
    "ExecuteTime": {
     "end_time": "2020-08-14T08:48:44.708724Z",
     "start_time": "2020-08-14T08:48:44.703309Z"
    }
   },
   "outputs": [
    {
     "data": {
      "text/plain": [
       "[('Afghanistan', 9.48),\n",
       " ('Albania', 1.73),\n",
       " ('Algeria', 9.31),\n",
       " ('Andorra', 0.25)]"
      ]
     },
     "execution_count": 23,
     "metadata": {},
     "output_type": "execute_result"
    }
   ],
   "source": [
    "# Calculate the average number of cases per country\n",
    "\n",
    "#Goal: create an array of tuples (country,average)\n",
    "country_average = []\n",
    "\n",
    "for row in  clean_data :\n",
    "    row_avg = []\n",
    "    row_avg.append(row[0])\n",
    "    row_avg.append(get_country_avg(row[3],row[4],row[5]))\n",
    "    country_average.append(tuple(row_avg))\n",
    "\n",
    "country_average[0:4] \n",
    "     "
   ]
  },
  {
   "cell_type": "markdown",
   "metadata": {},
   "source": [
    "#### Find the average using the namedtuple ```data_named```"
   ]
  },
  {
   "cell_type": "code",
   "execution_count": 24,
   "metadata": {
    "ExecuteTime": {
     "end_time": "2020-08-14T08:48:45.249351Z",
     "start_time": "2020-08-14T08:48:45.244728Z"
    }
   },
   "outputs": [
    {
     "name": "stdout",
     "output_type": "stream",
     "text": [
      " average for active cases = 1789.29\n",
      " average for death cases = 190.2\n"
     ]
    }
   ],
   "source": [
    "# Create a list for active case counts and deaths\n",
    "\n",
    "# Note: Don't forget to convert to floats.\n",
    "\n",
    "# namedtuple approach\n",
    "active   = [float(x.Active)  for x in data_named]\n",
    "deaths  = [float(x.Deaths)  for x in data_named]\n",
    "\n",
    "\n",
    " \n",
    "print(\" average for active cases =\", round(sum(active) / len_data_named,2)   ) \n",
    "print(\" average for death cases =\", round(sum(deaths) / len_data_named,2)   ) "
   ]
  },
  {
   "cell_type": "code",
   "execution_count": 25,
   "metadata": {
    "ExecuteTime": {
     "end_time": "2020-08-14T08:48:45.499380Z",
     "start_time": "2020-08-14T08:48:45.493339Z"
    }
   },
   "outputs": [
    {
     "data": {
      "text/plain": [
       "[('Afghanistan', 9.48), ('Albania', 1.73), ('Algeria', 9.31)]"
      ]
     },
     "execution_count": 25,
     "metadata": {},
     "output_type": "execute_result"
    }
   ],
   "source": [
    "# Calculate the average number of cases per country\n",
    "avg_cases_country = []\n",
    "\n",
    "for x in data_named[0:] :\n",
    "    tup_row = []\n",
    "     \n",
    "    tup_row.append(x.Country_Region)\n",
    "    tup_row.append(get_country_avg(x.Recovered,x.Deaths,x.Active))\n",
    "        \n",
    "    avg_cases_country.append(tuple(tup_row))\n",
    "                \n",
    "avg_cases_country [0:3] "
   ]
  },
  {
   "cell_type": "markdown",
   "metadata": {},
   "source": [
    "**Compute the Average total number of cases**"
   ]
  },
  {
   "cell_type": "code",
   "execution_count": 26,
   "metadata": {},
   "outputs": [],
   "source": [
    "# What information do we need to get this result?\n",
    "recovered  = [float(x.Recovered)  for x in data_named] "
   ]
  },
  {
   "cell_type": "markdown",
   "metadata": {
    "ExecuteTime": {
     "end_time": "2020-08-14T08:48:45.974405Z",
     "start_time": "2020-08-14T08:48:45.969301Z"
    }
   },
   "source": [
    "#### To compute the average total number of cases , we need the total active cases, total death cases, total recovered cases, and the total number of countries.  \n",
    "\n"
   ]
  },
  {
   "cell_type": "code",
   "execution_count": 27,
   "metadata": {
    "ExecuteTime": {
     "end_time": "2020-08-14T08:48:46.210971Z",
     "start_time": "2020-08-14T08:48:46.205307Z"
    }
   },
   "outputs": [
    {
     "name": "stdout",
     "output_type": "stream",
     "text": [
      "Average total number of cases: 5234.42\n"
     ]
    }
   ],
   "source": [
    "#\n",
    "avg_total = get_country_avg(sum(recovered),sum(deaths),sum(active))\n",
    "print(f\"Average total number of cases: {avg_total}\")"
   ]
  },
  {
   "cell_type": "markdown",
   "metadata": {},
   "source": [
    "### Part 5: Create an object ```countries``` that contains all the country names in the data set. Each country should only be listed once.\n",
    "\n",
    "1. Create a list (or other python data type) of unique country names.\n",
    "2. Print total number of unique countries represented in the data set.\n",
    "3. Print the first 5 names and the last 5 names - Print your results neatly and annotate. Your results should be in alphabetical order.\n"
   ]
  },
  {
   "cell_type": "code",
   "execution_count": 28,
   "metadata": {
    "ExecuteTime": {
     "end_time": "2020-08-14T08:48:46.716076Z",
     "start_time": "2020-08-14T08:48:46.709715Z"
    }
   },
   "outputs": [
    {
     "name": "stdout",
     "output_type": "stream",
     "text": [
      "total number of unique countries: 188\n"
     ]
    }
   ],
   "source": [
    "# Where are countries in the rows\n",
    "countries = [row[1] for row in clean_data ]\n",
    "\n",
    "\n",
    "# print the country count\n",
    "# filter duplicates\n",
    "unique_country = [ x for i, x in enumerate(countries) if x not in countries[:i]]\n",
    "\n",
    "print (f\"total number of unique countries: {len(unique_country)}\")"
   ]
  },
  {
   "cell_type": "code",
   "execution_count": 29,
   "metadata": {
    "ExecuteTime": {
     "end_time": "2020-08-14T08:48:47.177501Z",
     "start_time": "2020-08-14T08:48:47.169206Z"
    }
   },
   "outputs": [
    {
     "data": {
      "text/plain": [
       "['Afghanistan',\n",
       " 'Albania',\n",
       " 'Algeria',\n",
       " 'Andorra',\n",
       " 'Angola',\n",
       " 'Antigua and Barbuda',\n",
       " 'Argentina',\n",
       " 'Armenia',\n",
       " 'Australia',\n",
       " 'Austria',\n",
       " 'Azerbaijan',\n",
       " 'Bahamas',\n",
       " 'Bahrain',\n",
       " 'Bangladesh',\n",
       " 'Barbados',\n",
       " 'Belarus',\n",
       " 'Belgium',\n",
       " 'Belize',\n",
       " 'Benin',\n",
       " 'Bhutan',\n",
       " 'Bolivia',\n",
       " 'Bosnia and Herzegovina',\n",
       " 'Botswana',\n",
       " 'Brazil',\n",
       " 'Brunei',\n",
       " 'Bulgaria',\n",
       " 'Burkina Faso',\n",
       " 'Burma',\n",
       " 'Burundi',\n",
       " 'Cabo Verde',\n",
       " 'Cambodia',\n",
       " 'Cameroon',\n",
       " 'Canada',\n",
       " 'Central African Republic',\n",
       " 'Chad',\n",
       " 'Chile',\n",
       " 'China',\n",
       " 'Colombia',\n",
       " 'Comoros',\n",
       " 'Congo (Brazzaville)',\n",
       " 'Congo (Kinshasa)',\n",
       " 'Costa Rica',\n",
       " \"Cote d'Ivoire\",\n",
       " 'Croatia',\n",
       " 'Cuba',\n",
       " 'Cyprus',\n",
       " 'Czechia',\n",
       " 'Denmark',\n",
       " 'Diamond Princess',\n",
       " 'Djibouti',\n",
       " 'Dominica',\n",
       " 'Dominican Republic',\n",
       " 'Ecuador',\n",
       " 'Egypt',\n",
       " 'El Salvador',\n",
       " 'Equatorial Guinea',\n",
       " 'Eritrea',\n",
       " 'Estonia',\n",
       " 'Eswatini',\n",
       " 'Ethiopia',\n",
       " 'Fiji',\n",
       " 'Finland',\n",
       " 'France',\n",
       " 'Gabon',\n",
       " 'Gambia',\n",
       " 'Georgia',\n",
       " 'Germany',\n",
       " 'Ghana',\n",
       " 'Greece',\n",
       " 'Grenada',\n",
       " 'Guatemala',\n",
       " 'Guinea',\n",
       " 'Guinea-Bissau',\n",
       " 'Guyana',\n",
       " 'Haiti',\n",
       " 'Holy See',\n",
       " 'Honduras',\n",
       " 'Hungary',\n",
       " 'Iceland',\n",
       " 'India',\n",
       " 'Indonesia',\n",
       " 'Iran',\n",
       " 'Iraq',\n",
       " 'Ireland',\n",
       " 'Israel',\n",
       " 'Italy',\n",
       " 'Jamaica',\n",
       " 'Japan',\n",
       " 'Jordan',\n",
       " 'Kazakhstan',\n",
       " 'Kenya',\n",
       " 'Korea, South',\n",
       " 'Kosovo',\n",
       " 'Kuwait',\n",
       " 'Kyrgyzstan',\n",
       " 'Laos',\n",
       " 'Latvia',\n",
       " 'Lebanon',\n",
       " 'Lesotho',\n",
       " 'Liberia',\n",
       " 'Libya',\n",
       " 'Liechtenstein',\n",
       " 'Lithuania',\n",
       " 'Luxembourg',\n",
       " 'MS Zaandam',\n",
       " 'Madagascar',\n",
       " 'Malawi',\n",
       " 'Malaysia',\n",
       " 'Maldives',\n",
       " 'Mali',\n",
       " 'Malta',\n",
       " 'Mauritania',\n",
       " 'Mauritius',\n",
       " 'Mexico',\n",
       " 'Moldova',\n",
       " 'Monaco',\n",
       " 'Mongolia',\n",
       " 'Montenegro',\n",
       " 'Morocco',\n",
       " 'Mozambique',\n",
       " 'Namibia',\n",
       " 'Nepal',\n",
       " 'Netherlands',\n",
       " 'New Zealand',\n",
       " 'Nicaragua',\n",
       " 'Niger',\n",
       " 'Nigeria',\n",
       " 'North Macedonia',\n",
       " 'Norway',\n",
       " 'Oman',\n",
       " 'Pakistan',\n",
       " 'Panama',\n",
       " 'Papua New Guinea',\n",
       " 'Paraguay',\n",
       " 'Peru',\n",
       " 'Philippines',\n",
       " 'Poland',\n",
       " 'Portugal',\n",
       " 'Qatar',\n",
       " 'Romania',\n",
       " 'Russia',\n",
       " 'Rwanda',\n",
       " 'Saint Kitts and Nevis',\n",
       " 'Saint Lucia',\n",
       " 'Saint Vincent and the Grenadines',\n",
       " 'San Marino',\n",
       " 'Sao Tome and Principe',\n",
       " 'Saudi Arabia',\n",
       " 'Senegal',\n",
       " 'Serbia',\n",
       " 'Seychelles',\n",
       " 'Sierra Leone',\n",
       " 'Singapore',\n",
       " 'Slovakia',\n",
       " 'Slovenia',\n",
       " 'Somalia',\n",
       " 'South Africa',\n",
       " 'South Sudan',\n",
       " 'Spain',\n",
       " 'Sri Lanka',\n",
       " 'Sudan',\n",
       " 'Suriname',\n",
       " 'Sweden',\n",
       " 'Switzerland',\n",
       " 'Syria',\n",
       " 'Taiwan*',\n",
       " 'Tajikistan',\n",
       " 'Tanzania',\n",
       " 'Thailand',\n",
       " 'Timor-Leste',\n",
       " 'Togo',\n",
       " 'Trinidad and Tobago',\n",
       " 'Tunisia',\n",
       " 'Turkey',\n",
       " 'US',\n",
       " 'Uganda',\n",
       " 'Ukraine',\n",
       " 'United Arab Emirates',\n",
       " 'United Kingdom',\n",
       " 'Uruguay',\n",
       " 'Uzbekistan',\n",
       " 'Venezuela',\n",
       " 'Vietnam',\n",
       " 'West Bank and Gaza',\n",
       " 'Western Sahara',\n",
       " 'Yemen',\n",
       " 'Zambia',\n",
       " 'Zimbabwe']"
      ]
     },
     "execution_count": 29,
     "metadata": {},
     "output_type": "execute_result"
    }
   ],
   "source": [
    "# list the countries\n",
    "unique_country "
   ]
  },
  {
   "cell_type": "code",
   "execution_count": 30,
   "metadata": {
    "ExecuteTime": {
     "end_time": "2020-08-14T08:48:47.394181Z",
     "start_time": "2020-08-14T08:48:47.388870Z"
    }
   },
   "outputs": [
    {
     "name": "stdout",
     "output_type": "stream",
     "text": [
      "['Afghanistan', 'Albania', 'Algeria', 'Andorra', 'Angola']\n",
      "['West Bank and Gaza', 'Western Sahara', 'Yemen', 'Zambia', 'Zimbabwe']\n"
     ]
    }
   ],
   "source": [
    "# print the first 5.\n",
    "print(unique_country[0:5])\n",
    "# print the last 5\n",
    "print(unique_country[-5: ])"
   ]
  },
  {
   "cell_type": "markdown",
   "metadata": {},
   "source": [
    "### Part 6: Calculate the average number of confirmed cases for the first 5 countries and the last 5 countries.\n",
    "\n",
    "1. Determine the average number of confirmed cases for the first 5 countries.\n",
    "2. Determine the average number of confirmed cases for the last 5 countries.\n",
    "\n",
    "\n",
    "Note: Print your results neatly and properly annotated.\n",
    "\n",
    "Hint: Think carefully about the easiest way to count the number of confirmed cases!\n"
   ]
  },
  {
   "cell_type": "code",
   "execution_count": 31,
   "metadata": {},
   "outputs": [
    {
     "data": {
      "text/plain": [
       "('Combined_Key',\n",
       " 'Country_Region',\n",
       " 'Confirmed',\n",
       " 'Deaths',\n",
       " 'Recovered',\n",
       " 'Active',\n",
       " 'Incidence_Rate',\n",
       " 'Case_Fatality_Ratio')"
      ]
     },
     "execution_count": 31,
     "metadata": {},
     "output_type": "execute_result"
    }
   ],
   "source": [
    "covid_data._fields"
   ]
  },
  {
   "cell_type": "code",
   "execution_count": 32,
   "metadata": {
    "ExecuteTime": {
     "end_time": "2020-08-14T08:48:48.404253Z",
     "start_time": "2020-08-14T08:48:48.401253Z"
    },
    "scrolled": true
   },
   "outputs": [],
   "source": [
    "#first create a list of confirmed cases\n",
    "confirmed   = [float(x.Confirmed)  for x in data_named] "
   ]
  },
  {
   "cell_type": "code",
   "execution_count": 33,
   "metadata": {},
   "outputs": [],
   "source": [
    "avg_confirmed_cases = {}\n",
    "for i,row in enumerate(data_named[:]) :\n",
    "    avg_confirmed_cases[row[1]] = round(float(row[2]) / sum(confirmed),8)  \n",
    "        "
   ]
  },
  {
   "cell_type": "code",
   "execution_count": 34,
   "metadata": {
    "scrolled": true
   },
   "outputs": [
    {
     "data": {
      "text/plain": [
       "{'Afghanistan': 0.00181019,\n",
       " 'Albania': 0.00033043,\n",
       " 'Algeria': 0.00177887,\n",
       " 'Andorra': 4.736e-05,\n",
       " 'Angola': 8.541e-05}"
      ]
     },
     "execution_count": 34,
     "metadata": {},
     "output_type": "execute_result"
    }
   ],
   "source": [
    "first5pairs = {k: avg_confirmed_cases[k] for k in sorted(avg_confirmed_cases.keys())[:5]}\n",
    "first5pairs"
   ]
  },
  {
   "cell_type": "code",
   "execution_count": 35,
   "metadata": {},
   "outputs": [
    {
     "data": {
      "text/plain": [
       "{'West Bank and Gaza': 0.000736,\n",
       " 'Western Sahara': 4.8e-07,\n",
       " 'Yemen': 8.924e-05,\n",
       " 'Zambia': 0.00041206,\n",
       " 'Zimbabwe': 0.00023717}"
      ]
     },
     "execution_count": 35,
     "metadata": {},
     "output_type": "execute_result"
    }
   ],
   "source": [
    "last5pairs = {k: avg_confirmed_cases[k] for k in sorted(avg_confirmed_cases.keys())[-5:] }\n",
    "last5pairs"
   ]
  },
  {
   "cell_type": "code",
   "execution_count": 36,
   "metadata": {},
   "outputs": [],
   "source": [
    "# write a function\n",
    "def get_display_recs(n, end):\n",
    "    n5pairs = {key:avg_confirmed_cases[key] for key in sorted(avg_confirmed_cases.keys())[n:end]}\n",
    "    return n5pairs                "
   ]
  },
  {
   "cell_type": "code",
   "execution_count": 37,
   "metadata": {},
   "outputs": [
    {
     "name": "stdout",
     "output_type": "stream",
     "text": [
      "Jordan has average number of confirmed cases of 6.316e-05\n",
      "Kazakhstan has average number of confirmed cases of 0.0049137\n"
     ]
    }
   ],
   "source": [
    "#Get Keys\n",
    "for i,key in enumerate(get_display_recs(88, 90)):\n",
    "    print (key,\"has average number of confirmed cases of\",avg_confirmed_cases[key])\n",
    "  "
   ]
  },
  {
   "cell_type": "code",
   "execution_count": 38,
   "metadata": {
    "scrolled": false
   },
   "outputs": [
    {
     "name": "stdout",
     "output_type": "stream",
     "text": [
      "Croatia has average number of confirmed cases of 0.00028453\n",
      "Cuba has average number of confirmed cases of 0.00015162\n",
      "Cyprus has average number of confirmed cases of 6.258e-05\n",
      "Czechia has average number of confirmed cases of 0.0009246\n"
     ]
    }
   ],
   "source": [
    "#Get Keys\n",
    "for i,key in enumerate(get_display_recs(43, 47)):\n",
    "    print (key,\"has average number of confirmed cases of\",avg_confirmed_cases[key])\n"
   ]
  },
  {
   "cell_type": "markdown",
   "metadata": {},
   "source": [
    "### Problem 7: Create a dictionary of confirmed cases in the EU.\n",
    "\n",
    "The keys in the dictionary are the countries in Europe and the values will be the total number of confirmed cases.\n",
    "\n",
    "**Expected output**: `{'Austria': 22439, 'Belgium': 75647, ...  }` (*required*)\n",
    "\n",
    "**Bonus**: use `.defaultdict()` to simplify your code. (*optional*)\n",
    "\n",
    "See: [Python Doc - defaultdict](https://docs.python.org/3/library/collections.html?highlight=defaultdict#collections.defaultdict) or [Stackoverflow - defaultdict](https://stackoverflow.com/questions/5900578/how-does-collections-defaultdict-work)"
   ]
  },
  {
   "cell_type": "code",
   "execution_count": 39,
   "metadata": {
    "ExecuteTime": {
     "end_time": "2020-08-14T08:48:50.837286Z",
     "start_time": "2020-08-14T08:48:50.832451Z"
    }
   },
   "outputs": [],
   "source": [
    "# a list of EU countries\n",
    "eu = ['Austria',\n",
    "'Belgium',\n",
    "'Bulgaria',\n",
    "'Croatia',\n",
    "'Cyprus',\n",
    "'Czechia',\n",
    "'Denmark',\n",
    "'Estonia',\n",
    "'Finland',\n",
    "'France',\n",
    "'Germany',\n",
    "'Greece',\n",
    "'Hungary',\n",
    "'Ireland',\n",
    "'Italy',\n",
    "'Latvia',\n",
    "'Lithuania',\n",
    "'Luxembourg',\n",
    "'Malta',\n",
    "'Netherlands',\n",
    "'Poland',\n",
    "'Portugal',\n",
    "'Romania',\n",
    "'Slovakia',\n",
    "'Slovenia',\n",
    "'Spain',\n",
    "'Sweden']"
   ]
  },
  {
   "cell_type": "code",
   "execution_count": 40,
   "metadata": {
    "ExecuteTime": {
     "end_time": "2020-08-14T08:48:51.526450Z",
     "start_time": "2020-08-14T08:48:51.519777Z"
    }
   },
   "outputs": [
    {
     "data": {
      "text/plain": [
       "{'Austria': 22439.0,\n",
       " 'Belgium': 75647.0,\n",
       " 'Bulgaria': 13893.0,\n",
       " 'Croatia': 5870.0,\n",
       " 'Cyprus': 1291.0}"
      ]
     },
     "execution_count": 40,
     "metadata": {},
     "output_type": "execute_result"
    }
   ],
   "source": [
    "#Create a dictionary of confirmed cases in the EU\n",
    "is_eu = {}\n",
    "for row in clean_data: \n",
    "    if row[1] in eu:\n",
    "        is_eu[row[1]] = row[2]\n",
    "\n",
    "#print first 5 rows           \n",
    "first5pairs =  {k: is_eu[k] for k in list(is_eu)[:5]}\n",
    "first5pairs"
   ]
  },
  {
   "cell_type": "code",
   "execution_count": 41,
   "metadata": {
    "ExecuteTime": {
     "end_time": "2020-08-14T08:48:51.787870Z",
     "start_time": "2020-08-14T08:48:51.780779Z"
    }
   },
   "outputs": [],
   "source": [
    "# if you used a named tuple - answer here\n",
    "\n",
    "is_eu_tup = {}\n",
    "\n",
    "# if you used a named tuple - answer here\n",
    "\n",
    "for x in data_named[:] :\n",
    "     if x.Country_Region in eu:\n",
    "         is_eu_tup[x.Country_Region] = float(x.Confirmed) "
   ]
  },
  {
   "cell_type": "code",
   "execution_count": 42,
   "metadata": {
    "ExecuteTime": {
     "end_time": "2020-08-14T08:48:52.510673Z",
     "start_time": "2020-08-14T08:48:52.504969Z"
    }
   },
   "outputs": [
    {
     "data": {
      "text/plain": [
       "{'Austria': 22439.0,\n",
       " 'Belgium': 75647.0,\n",
       " 'Bulgaria': 13893.0,\n",
       " 'Croatia': 5870.0,\n",
       " 'Cyprus': 1291.0}"
      ]
     },
     "execution_count": 42,
     "metadata": {},
     "output_type": "execute_result"
    }
   ],
   "source": [
    "#print first 5 rows           \n",
    "first5pairs =  {k: is_eu_tup[k] for k in sorted(list(is_eu_tup))[0:5]}\n",
    "first5pairs"
   ]
  },
  {
   "cell_type": "code",
   "execution_count": 43,
   "metadata": {
    "ExecuteTime": {
     "end_time": "2020-08-14T08:48:53.375323Z",
     "start_time": "2020-08-14T08:48:53.368950Z"
    }
   },
   "outputs": [
    {
     "ename": "KeyError",
     "evalue": "'Case_Fatality '",
     "output_type": "error",
     "traceback": [
      "\u001b[1;31m---------------------------------------------------------------------------\u001b[0m",
      "\u001b[1;31mKeyError\u001b[0m                                  Traceback (most recent call last)",
      "Input \u001b[1;32mIn [43]\u001b[0m, in \u001b[0;36m<cell line: 9>\u001b[1;34m()\u001b[0m\n\u001b[0;32m      4\u001b[0m \u001b[38;5;28;01mfrom\u001b[39;00m \u001b[38;5;21;01mcollections\u001b[39;00m \u001b[38;5;28;01mimport\u001b[39;00m defaultdict\n\u001b[0;32m      7\u001b[0m \u001b[38;5;66;03m#  Check value of a key 'Case_Fatality_Ratio' in my dictionary  covid_data_dict\u001b[39;00m\n\u001b[0;32m      8\u001b[0m \u001b[38;5;66;03m#check value that is not there\u001b[39;00m\n\u001b[1;32m----> 9\u001b[0m \u001b[43mis_eu_tup\u001b[49m\u001b[43m[\u001b[49m\u001b[38;5;124;43m'\u001b[39;49m\u001b[38;5;124;43mCase_Fatality \u001b[39;49m\u001b[38;5;124;43m'\u001b[39;49m\u001b[43m]\u001b[49m\n",
      "\u001b[1;31mKeyError\u001b[0m: 'Case_Fatality '"
     ]
    }
   ],
   "source": [
    "#try with a defaultdict\n",
    "#defaultdict, on the other hand, will insert a key into the dictionary if it isn't there yet\n",
    "#Key Error \n",
    "from collections import defaultdict\n",
    " \n",
    "\n",
    "#  Check value of a key 'Case_Fatality_Ratio' in my dictionary  covid_data_dict\n",
    "#check value that is not there\n",
    "is_eu_tup['Case_Fatality '] \n",
    "#Got a KeyError "
   ]
  },
  {
   "cell_type": "raw",
   "metadata": {
    "ExecuteTime": {
     "end_time": "2020-08-14T08:48:54.018920Z",
     "start_time": "2020-08-14T08:48:54.012003Z"
    },
    "scrolled": true
   },
   "source": [
    "try:\n",
    "    is_eu_tup['Case_Fatality '] \n",
    "except KeyError:\n",
    "    print(\"Exception - Key is Not present in the dictionary\")"
   ]
  },
  {
   "cell_type": "code",
   "execution_count": null,
   "metadata": {},
   "outputs": [],
   "source": [
    "#set default value for keys not found\n",
    "is_eu_tup = defaultdict(lambda: \"Key is Not present in the dictionary\")"
   ]
  },
  {
   "cell_type": "code",
   "execution_count": null,
   "metadata": {},
   "outputs": [],
   "source": [
    "is_eu_tup['Case_Fatality '] "
   ]
  },
  {
   "cell_type": "markdown",
   "metadata": {},
   "source": [
    "### Problem 8: Compare the Case Fatality Rate in the EU to that in the US and North America.\n",
    "\n",
    "1. Determine the CFR in the EU\n",
    "2. Determine the CFR in the US\n",
    "3. Determine the CFR in North America\n",
    "\n",
    "Note: The Case Fatality Rate is a feature in this data set. You are not to use that feature. You should compute the CFR from the other available features. Use the existing CFR column as a check."
   ]
  },
  {
   "cell_type": "code",
   "execution_count": 83,
   "metadata": {},
   "outputs": [
    {
     "data": {
      "text/plain": [
       "('Combined_Key',\n",
       " 'Country_Region',\n",
       " 'Confirmed',\n",
       " 'Deaths',\n",
       " 'Recovered',\n",
       " 'Active',\n",
       " 'Incidence_Rate',\n",
       " 'Case_Fatality_Ratio')"
      ]
     },
     "execution_count": 83,
     "metadata": {},
     "output_type": "execute_result"
    }
   ],
   "source": [
    "covid_data._fields"
   ]
  },
  {
   "cell_type": "code",
   "execution_count": 84,
   "metadata": {
    "ExecuteTime": {
     "end_time": "2020-08-14T08:48:54.995602Z",
     "start_time": "2020-08-14T08:48:54.989058Z"
    },
    "scrolled": true
   },
   "outputs": [],
   "source": [
    "#Calculate cfr in eu = #cfr = confirmed /   #death * 100\n",
    "\n",
    "cfr_eu = {}\n",
    "for row in clean_data:      \n",
    "    if row[1] in eu:                                          \n",
    "        \n",
    "        try:\n",
    "            cfr_eu[row[1]] = round(row[3] / row[2] * 100,2)\n",
    "        except:\n",
    "            cfr_eu[row[1]] = 0"
   ]
  },
  {
   "cell_type": "code",
   "execution_count": 85,
   "metadata": {
    "ExecuteTime": {
     "end_time": "2020-08-14T08:48:55.290709Z",
     "start_time": "2020-08-14T08:48:55.280834Z"
    },
    "scrolled": true
   },
   "outputs": [
    {
     "data": {
      "text/plain": [
       "{'Austria': 3.23,\n",
       " 'Belgium': 13.09,\n",
       " 'Bulgaria': 3.47,\n",
       " 'Croatia': 2.73,\n",
       " 'Cyprus': 1.55}"
      ]
     },
     "execution_count": 85,
     "metadata": {},
     "output_type": "execute_result"
    }
   ],
   "source": [
    "#print first 5 rows           \n",
    "first5_cfr_eu =  {k: cfr_eu[k] for k in sorted(list(cfr_eu))[0:5]}\n",
    "first5_cfr_eu"
   ]
  },
  {
   "cell_type": "code",
   "execution_count": 86,
   "metadata": {},
   "outputs": [],
   "source": [
    "#Determine the CFR in the US\n",
    "cfr_us = {}\n",
    "for row in clean_data:      \n",
    "    if row[1] == \"US\":                                          \n",
    "        \n",
    "        try:\n",
    "            cfr_us[row[1]] = round(row[3] / row[2] * 100,2)\n",
    "        except:\n",
    "            cfr_us[row[1]] = 0"
   ]
  },
  {
   "cell_type": "code",
   "execution_count": 87,
   "metadata": {},
   "outputs": [
    {
     "data": {
      "text/plain": [
       "{'US': 0.0}"
      ]
     },
     "execution_count": 87,
     "metadata": {},
     "output_type": "execute_result"
    }
   ],
   "source": [
    "#print first 5 rows           \n",
    "first5_cfr_us =  {k: cfr_us[k] for k in sorted(list(cfr_us))[0:5]}\n",
    "first5_cfr_us"
   ]
  },
  {
   "cell_type": "code",
   "execution_count": 88,
   "metadata": {
    "ExecuteTime": {
     "end_time": "2020-08-14T08:48:55.773253Z",
     "start_time": "2020-08-14T08:48:55.769002Z"
    }
   },
   "outputs": [],
   "source": [
    "# countries in North America\n",
    "na = ['Antigua and Barbuda',\n",
    "'Bahamas',\n",
    "'Barbados',\n",
    "'Belize',\n",
    "'Canada',\n",
    "'Costa Rica',\n",
    "'Cuba',\n",
    "'Dominica',\n",
    "'Dominican Republic',\n",
    "'El Salvador',\n",
    "'Grenada',\n",
    "'Guatemala',\n",
    "'Haiti',\n",
    "'Honduras',\n",
    "'Jamaica',\n",
    "'Mexico',\n",
    "'Nicaragua',\n",
    "'Panama',\n",
    "'Saint Kitts and Nevis',\n",
    "'Saint Lucia',\n",
    "'Saint Vincent and the Grenadines',\n",
    "'Trinidad and Tobago',\n",
    "'US'] "
   ]
  },
  {
   "cell_type": "code",
   "execution_count": 89,
   "metadata": {},
   "outputs": [],
   "source": [
    "#Determine the CFR in the US\n",
    "cfr_na = {}\n",
    "for row in clean_data:      \n",
    "    if row[1] in na:                                          \n",
    "        \n",
    "        try:\n",
    "            cfr_na[row[1]] = round(row[3] / row[2] * 100,2)\n",
    "        except:\n",
    "            cfr_na[row[1]] = 0"
   ]
  },
  {
   "cell_type": "code",
   "execution_count": 90,
   "metadata": {},
   "outputs": [
    {
     "data": {
      "text/plain": [
       "{'Antigua and Barbuda': 3.26,\n",
       " 'Bahamas': 1.45,\n",
       " 'Barbados': 4.86,\n",
       " 'Belize': 0.95,\n",
       " 'Canada': 0.0}"
      ]
     },
     "execution_count": 90,
     "metadata": {},
     "output_type": "execute_result"
    }
   ],
   "source": [
    "#print first 5 rows           \n",
    "first5_cfr_na =  {k: cfr_na[k] for k in sorted(list(cfr_na))[0:5]}\n",
    "first5_cfr_na"
   ]
  },
  {
   "cell_type": "code",
   "execution_count": 110,
   "metadata": {
    "ExecuteTime": {
     "end_time": "2020-08-14T08:48:56.336377Z",
     "start_time": "2020-08-14T08:48:56.325167Z"
    },
    "scrolled": true
   },
   "outputs": [],
   "source": [
    "# write a function\n",
    "\n",
    "def calc_first5_CFR_by_region (region):\n",
    "    cfr_region = {}\n",
    "    if isinstance(region, str) == True:\n",
    "    #if region.isin('na','eu'):\n",
    "        for row in clean_data:      \n",
    "            if row[1] == region:                                          \n",
    "            \n",
    "                try:\n",
    "                     cfr_region[row[1]] = round(row[3] / row[2] * 100,2)\n",
    "                except:\n",
    "                     cfr_region[row[1]] = 0\n",
    "    else:\n",
    "        for row in clean_data:      \n",
    "            if row[1] in  region :                                          \n",
    "            \n",
    "                try:\n",
    "                    cfr_region[row[1]] = round(row[3] / row[2] * 100,2)\n",
    "                except:\n",
    "                    cfr_region[row[1]] = 0\n",
    "    return  {k: cfr_region[k] for k in sorted(list(cfr_region))[0:5]}\n",
    "\n"
   ]
  },
  {
   "cell_type": "code",
   "execution_count": 111,
   "metadata": {},
   "outputs": [
    {
     "name": "stdout",
     "output_type": "stream",
     "text": [
      "{'Antigua and Barbuda': 3.26, 'Bahamas': 1.45, 'Barbados': 4.86, 'Belize': 0.95, 'Canada': 0.0}\n"
     ]
    }
   ],
   "source": [
    "print( calc_first5_CFR_by_region (na))\n",
    "    "
   ]
  },
  {
   "cell_type": "code",
   "execution_count": 112,
   "metadata": {},
   "outputs": [
    {
     "name": "stdout",
     "output_type": "stream",
     "text": [
      "{'Austria': 3.23, 'Belgium': 13.09, 'Bulgaria': 3.47, 'Croatia': 2.73, 'Cyprus': 1.55}\n"
     ]
    }
   ],
   "source": [
    "print( calc_first5_CFR_by_region (eu))"
   ]
  },
  {
   "cell_type": "code",
   "execution_count": 113,
   "metadata": {},
   "outputs": [
    {
     "name": "stdout",
     "output_type": "stream",
     "text": [
      "{'US': 0.0}\n"
     ]
    }
   ],
   "source": [
    "print( calc_first5_CFR_by_region (\"US\"))"
   ]
  },
  {
   "cell_type": "markdown",
   "metadata": {},
   "source": [
    "\n",
    "### Bonus 1: Craft a problem statement about this data that interests you, and then answer it!\n"
   ]
  },
  {
   "cell_type": "code",
   "execution_count": 74,
   "metadata": {},
   "outputs": [],
   "source": [
    "#The highest number of Confirmed cases held by a country: \n",
    "largest = max(float(data[i][2]) for i in range(len(data) ))"
   ]
  },
  {
   "cell_type": "code",
   "execution_count": 75,
   "metadata": {
    "scrolled": true
   },
   "outputs": [
    {
     "name": "stdout",
     "output_type": "stream",
     "text": [
      " The highest number of Confirmed cases held by a country: 655181.0\n"
     ]
    }
   ],
   "source": [
    "print(f\" The highest number of Confirmed cases held by a country: {largest}\")"
   ]
  },
  {
   "cell_type": "code",
   "execution_count": 78,
   "metadata": {},
   "outputs": [
    {
     "name": "stdout",
     "output_type": "stream",
     "text": [
      " The least number of Confirmed cases held by a country: 0.0\n"
     ]
    }
   ],
   "source": [
    "#The least number of Confirmed cases held by a country:\n",
    "smallest = min(float(data[i][2]) for i in range(len(data) ))\n",
    "print(f\" The least number of Confirmed cases held by a country: {smallest}\")"
   ]
  },
  {
   "cell_type": "markdown",
   "metadata": {},
   "source": [
    "### Bonus 2: Repeat the above analysis using Pandas!\n"
   ]
  },
  {
   "cell_type": "code",
   "execution_count": 46,
   "metadata": {},
   "outputs": [
    {
     "data": {
      "text/plain": [
       "3940              Zimbabwe\n",
       "3939                Zambia\n",
       "3938                 Yemen\n",
       "3937        Western Sahara\n",
       "3936    West Bank and Gaza\n",
       "               ...        \n",
       "4                   Angola\n",
       "3                  Andorra\n",
       "2                  Algeria\n",
       "1                  Albania\n",
       "0              Afghanistan\n",
       "Name: Country_Region, Length: 3941, dtype: object"
      ]
     },
     "execution_count": 46,
     "metadata": {},
     "output_type": "execute_result"
    }
   ],
   "source": [
    "# Where are countries in the rows\n",
    "import pandas as pd\n",
    "prod_df = pd.read_csv(DATA_FILE, sep=',')\n",
    " \n",
    "counrtry_list = prod_df['Country_Region'].sort_values(ascending=False)\n",
    "counrtry_list"
   ]
  },
  {
   "cell_type": "code",
   "execution_count": 47,
   "metadata": {},
   "outputs": [
    {
     "data": {
      "text/plain": [
       "188"
      ]
     },
     "execution_count": 47,
     "metadata": {},
     "output_type": "execute_result"
    }
   ],
   "source": [
    "# Print total number of unique countries represented in the data set.\n",
    " \n",
    "prod_df['Country_Region'].nunique() "
   ]
  },
  {
   "cell_type": "code",
   "execution_count": 48,
   "metadata": {},
   "outputs": [
    {
     "data": {
      "text/html": [
       "<div>\n",
       "<style scoped>\n",
       "    .dataframe tbody tr th:only-of-type {\n",
       "        vertical-align: middle;\n",
       "    }\n",
       "\n",
       "    .dataframe tbody tr th {\n",
       "        vertical-align: top;\n",
       "    }\n",
       "\n",
       "    .dataframe thead th {\n",
       "        text-align: right;\n",
       "    }\n",
       "</style>\n",
       "<table border=\"1\" class=\"dataframe\">\n",
       "  <thead>\n",
       "    <tr style=\"text-align: right;\">\n",
       "      <th></th>\n",
       "      <th>Country_Region</th>\n",
       "    </tr>\n",
       "  </thead>\n",
       "  <tbody>\n",
       "    <tr>\n",
       "      <th>0</th>\n",
       "      <td>Afghanistan</td>\n",
       "    </tr>\n",
       "    <tr>\n",
       "      <th>1</th>\n",
       "      <td>Albania</td>\n",
       "    </tr>\n",
       "    <tr>\n",
       "      <th>2</th>\n",
       "      <td>Algeria</td>\n",
       "    </tr>\n",
       "    <tr>\n",
       "      <th>3</th>\n",
       "      <td>Andorra</td>\n",
       "    </tr>\n",
       "    <tr>\n",
       "      <th>4</th>\n",
       "      <td>Angola</td>\n",
       "    </tr>\n",
       "  </tbody>\n",
       "</table>\n",
       "</div>"
      ],
      "text/plain": [
       "  Country_Region\n",
       "0    Afghanistan\n",
       "1        Albania\n",
       "2        Algeria\n",
       "3        Andorra\n",
       "4         Angola"
      ]
     },
     "execution_count": 48,
     "metadata": {},
     "output_type": "execute_result"
    }
   ],
   "source": [
    "\n",
    "# print the first 5.\n",
    "prod_df.head(5)[['Country_Region']] "
   ]
  },
  {
   "cell_type": "code",
   "execution_count": 49,
   "metadata": {
    "scrolled": true
   },
   "outputs": [
    {
     "data": {
      "text/html": [
       "<div>\n",
       "<style scoped>\n",
       "    .dataframe tbody tr th:only-of-type {\n",
       "        vertical-align: middle;\n",
       "    }\n",
       "\n",
       "    .dataframe tbody tr th {\n",
       "        vertical-align: top;\n",
       "    }\n",
       "\n",
       "    .dataframe thead th {\n",
       "        text-align: right;\n",
       "    }\n",
       "</style>\n",
       "<table border=\"1\" class=\"dataframe\">\n",
       "  <thead>\n",
       "    <tr style=\"text-align: right;\">\n",
       "      <th></th>\n",
       "      <th>Country_Region</th>\n",
       "    </tr>\n",
       "  </thead>\n",
       "  <tbody>\n",
       "    <tr>\n",
       "      <th>3936</th>\n",
       "      <td>West Bank and Gaza</td>\n",
       "    </tr>\n",
       "    <tr>\n",
       "      <th>3937</th>\n",
       "      <td>Western Sahara</td>\n",
       "    </tr>\n",
       "    <tr>\n",
       "      <th>3938</th>\n",
       "      <td>Yemen</td>\n",
       "    </tr>\n",
       "    <tr>\n",
       "      <th>3939</th>\n",
       "      <td>Zambia</td>\n",
       "    </tr>\n",
       "    <tr>\n",
       "      <th>3940</th>\n",
       "      <td>Zimbabwe</td>\n",
       "    </tr>\n",
       "  </tbody>\n",
       "</table>\n",
       "</div>"
      ],
      "text/plain": [
       "          Country_Region\n",
       "3936  West Bank and Gaza\n",
       "3937      Western Sahara\n",
       "3938               Yemen\n",
       "3939              Zambia\n",
       "3940            Zimbabwe"
      ]
     },
     "execution_count": 49,
     "metadata": {},
     "output_type": "execute_result"
    }
   ],
   "source": [
    "# print the last 5\n",
    "prod_df.tail(5)[['Country_Region']]"
   ]
  },
  {
   "cell_type": "code",
   "execution_count": 50,
   "metadata": {},
   "outputs": [
    {
     "data": {
      "text/plain": [
       "16720.0"
      ]
     },
     "execution_count": 50,
     "metadata": {},
     "output_type": "execute_result"
    }
   ],
   "source": [
    "#Calculate the average number of confirmed cases for the first 5  \n",
    "prod_df['Confirmed'].head().mean()\n",
    "\n"
   ]
  },
  {
   "cell_type": "code",
   "execution_count": 53,
   "metadata": {},
   "outputs": [
    {
     "name": "stdout",
     "output_type": "stream",
     "text": [
      " The average number of confirmed cases for the first 5 countries 16720.0\n",
      " The average number of confirmed cases for the last 5 countries 6085.8\n"
     ]
    }
   ],
   "source": [
    "#sort biggest to smallest\n",
    "first5_avg = prod_df['Confirmed'].head(5).sort_values(ascending=False).mean() \n",
    "\n",
    "print(f\" The average number of confirmed cases for the first 5 countries {first5_avg}\")\n",
    "\n",
    "last5_avg = prod_df['Confirmed'].tail(5).sort_values(ascending=False).mean() \n",
    "\n",
    "print(f\" The average number of confirmed cases for the last 5 countries {last5_avg}\")"
   ]
  },
  {
   "cell_type": "code",
   "execution_count": 54,
   "metadata": {},
   "outputs": [
    {
     "name": "stdout",
     "output_type": "stream",
     "text": [
      " The average number of confirmed cases for the first 5 countries 6085.8\n",
      " The average number of confirmed cases for the first 5 countries 16720.0\n"
     ]
    }
   ],
   "source": [
    "# write a function\n",
    "def findavg(df_data):\n",
    "    last5_avg = prod_df['Confirmed'].tail(5).sort_values(ascending=False).mean() \n",
    "    first5_avg = prod_df['Confirmed'].head(5).sort_values(ascending=False).mean()    \n",
    "    return   last5_avg, first5_avg\n",
    "\n",
    "findavg(prod_df)\n",
    "print(f\" The average number of confirmed cases for the first 5 countries {findavg(prod_df)[0]}\")\n",
    "print(f\" The average number of confirmed cases for the first 5 countries {findavg(prod_df)[1]}\")"
   ]
  },
  {
   "cell_type": "code",
   "execution_count": 55,
   "metadata": {},
   "outputs": [
    {
     "data": {
      "text/html": [
       "<div>\n",
       "<style scoped>\n",
       "    .dataframe tbody tr th:only-of-type {\n",
       "        vertical-align: middle;\n",
       "    }\n",
       "\n",
       "    .dataframe tbody tr th {\n",
       "        vertical-align: top;\n",
       "    }\n",
       "\n",
       "    .dataframe thead th {\n",
       "        text-align: right;\n",
       "    }\n",
       "</style>\n",
       "<table border=\"1\" class=\"dataframe\">\n",
       "  <thead>\n",
       "    <tr style=\"text-align: right;\">\n",
       "      <th></th>\n",
       "      <th>Country_Region</th>\n",
       "      <th>Confirmed</th>\n",
       "    </tr>\n",
       "  </thead>\n",
       "  <tbody>\n",
       "    <tr>\n",
       "      <th>16</th>\n",
       "      <td>Austria</td>\n",
       "      <td>22439</td>\n",
       "    </tr>\n",
       "    <tr>\n",
       "      <th>23</th>\n",
       "      <td>Belgium</td>\n",
       "      <td>75647</td>\n",
       "    </tr>\n",
       "    <tr>\n",
       "      <th>58</th>\n",
       "      <td>Bulgaria</td>\n",
       "      <td>13893</td>\n",
       "    </tr>\n",
       "    <tr>\n",
       "      <th>168</th>\n",
       "      <td>Croatia</td>\n",
       "      <td>5870</td>\n",
       "    </tr>\n",
       "    <tr>\n",
       "      <th>170</th>\n",
       "      <td>Cyprus</td>\n",
       "      <td>1291</td>\n",
       "    </tr>\n",
       "    <tr>\n",
       "      <th>...</th>\n",
       "      <td>...</td>\n",
       "      <td>...</td>\n",
       "    </tr>\n",
       "    <tr>\n",
       "      <th>614</th>\n",
       "      <td>Sweden</td>\n",
       "      <td>1099</td>\n",
       "    </tr>\n",
       "    <tr>\n",
       "      <th>615</th>\n",
       "      <td>Sweden</td>\n",
       "      <td>925</td>\n",
       "    </tr>\n",
       "    <tr>\n",
       "      <th>616</th>\n",
       "      <td>Sweden</td>\n",
       "      <td>1824</td>\n",
       "    </tr>\n",
       "    <tr>\n",
       "      <th>617</th>\n",
       "      <td>Sweden</td>\n",
       "      <td>2695</td>\n",
       "    </tr>\n",
       "    <tr>\n",
       "      <th>618</th>\n",
       "      <td>Sweden</td>\n",
       "      <td>19204</td>\n",
       "    </tr>\n",
       "  </tbody>\n",
       "</table>\n",
       "<p>130 rows × 2 columns</p>\n",
       "</div>"
      ],
      "text/plain": [
       "    Country_Region  Confirmed\n",
       "16         Austria      22439\n",
       "23         Belgium      75647\n",
       "58        Bulgaria      13893\n",
       "168        Croatia       5870\n",
       "170         Cyprus       1291\n",
       "..             ...        ...\n",
       "614         Sweden       1099\n",
       "615         Sweden        925\n",
       "616         Sweden       1824\n",
       "617         Sweden       2695\n",
       "618         Sweden      19204\n",
       "\n",
       "[130 rows x 2 columns]"
      ]
     },
     "execution_count": 55,
     "metadata": {},
     "output_type": "execute_result"
    }
   ],
   "source": [
    "#Problem 7: Create a dictionary of confirmed cases in the EU.\n",
    "#create filter\n",
    "is_eu = prod_df['Country_Region'].isin(eu) \n",
    "\n",
    "#Create a dictionary of confirmed cases in the EU.\n",
    "prod_df[is_eu][['Country_Region','Confirmed']] "
   ]
  },
  {
   "cell_type": "code",
   "execution_count": 56,
   "metadata": {},
   "outputs": [
    {
     "data": {
      "text/plain": [
       "dict_items([('Confirmed', {'Austria': 22439, 'Belgium': 75647, 'Bulgaria': 13893, 'Croatia': 5870, 'Cyprus': 1291, 'Czechia': 19075, 'Denmark': 15070, 'Estonia': 2174, 'Finland': 7642, 'France': 230874, 'Germany': 1880, 'Greece': 6177, 'Hungary': 4768, 'Ireland': 26838, 'Italy': 20801, 'Latvia': 1303, 'Lithuania': 2309, 'Luxembourg': 7300, 'Malta': 1190, 'Netherlands': 15765, 'Poland': 53676, 'Portugal': 53223, 'Romania': 65177, 'Slovakia': 2690, 'Slovenia': 2303, 'Spain': 0, 'Sweden': 19204})])"
      ]
     },
     "execution_count": 56,
     "metadata": {},
     "output_type": "execute_result"
    }
   ],
   "source": [
    "#You can use df. to_dict() in order to convert the DataFrame to a dictionary\n",
    "df = pd.DataFrame(prod_df[is_eu][['Country_Region','Confirmed']],columns=['Country_Region','Confirmed'] )\n",
    "df.set_index('Country_Region', inplace=True)\n",
    "df = df.rename_axis(None)  \n",
    "\n",
    "my_dictionary = df.to_dict()\n",
    "my_dictionary.items()"
   ]
  },
  {
   "cell_type": "code",
   "execution_count": 58,
   "metadata": {},
   "outputs": [],
   "source": [
    "# if you used a named tuple - answer here\n",
    "#iterate each element and convert to dictionary\n",
    "\n",
    "#show named tuple as a dictionary\n",
    "covid_data_dict = {}\n",
    "\n",
    "#build the keys\n",
    "for p in header[:]:                   #add column headers sex,age,sibsp,pclass,far,survival\n",
    "    covid_data_dict[p] = [] \n",
    "    \n",
    "for row in data_named[:]:\n",
    "      for i,cell in enumerate(row): \n",
    "            #print(row._asdict())        #add the entire as a dict \n",
    "           # print (i)                    #append cells to existing dictionary keyes\n",
    "           # print (cell)\n",
    "            covid_data_dict[header[i]].append(cell)\n",
    "\n",
    "#print(covid_data_dict.items())"
   ]
  },
  {
   "cell_type": "code",
   "execution_count": 59,
   "metadata": {},
   "outputs": [
    {
     "data": {
      "text/plain": [
       "[3.6256526978176464,\n",
       " 3.0511955405603635,\n",
       " 3.6322515599880094,\n",
       " 5.424769703172978,\n",
       " 4.540295119182747]"
      ]
     },
     "execution_count": 59,
     "metadata": {},
     "output_type": "execute_result"
    }
   ],
   "source": [
    "#try with a defaultdict\n",
    "#defaultdict, on the other hand, will insert a key into the dictionary if it isn't there yet\n",
    "#Key Error \n",
    "from collections import defaultdict\n",
    " \n",
    "\n",
    "#  Check value of a key 'Case_Fatality_Ratio' in my dictionary  covid_data_dict\n",
    "covid_data_dict['Case_Fatality_Ratio'][0:5] "
   ]
  },
  {
   "cell_type": "code",
   "execution_count": 60,
   "metadata": {
    "scrolled": true
   },
   "outputs": [
    {
     "ename": "KeyError",
     "evalue": "'Case_Fatality '",
     "output_type": "error",
     "traceback": [
      "\u001b[1;31m---------------------------------------------------------------------------\u001b[0m",
      "\u001b[1;31mKeyError\u001b[0m                                  Traceback (most recent call last)",
      "Input \u001b[1;32mIn [60]\u001b[0m, in \u001b[0;36m<cell line: 2>\u001b[1;34m()\u001b[0m\n\u001b[0;32m      1\u001b[0m \u001b[38;5;66;03m#check value that is not there\u001b[39;00m\n\u001b[1;32m----> 2\u001b[0m \u001b[43mcovid_data_dict\u001b[49m\u001b[43m[\u001b[49m\u001b[38;5;124;43m'\u001b[39;49m\u001b[38;5;124;43mCase_Fatality \u001b[39;49m\u001b[38;5;124;43m'\u001b[39;49m\u001b[43m]\u001b[49m\n",
      "\u001b[1;31mKeyError\u001b[0m: 'Case_Fatality '"
     ]
    }
   ],
   "source": [
    "#check value that is not there\n",
    "covid_data_dict['Case_Fatality '] \n",
    "# I EXPECT A KeyError"
   ]
  },
  {
   "cell_type": "code",
   "execution_count": 61,
   "metadata": {},
   "outputs": [
    {
     "name": "stdout",
     "output_type": "stream",
     "text": [
      "Exception - Key is Not present in the dictionary\n"
     ]
    }
   ],
   "source": [
    "try:\n",
    "    covid_data_dict['Case_Fatality '] \n",
    "except KeyError:\n",
    "    print(\"Exception - Key is Not present in the dictionary\")"
   ]
  },
  {
   "cell_type": "code",
   "execution_count": 62,
   "metadata": {},
   "outputs": [],
   "source": [
    "#set default value for keys not found\n",
    "covid_data_dict = defaultdict(lambda: \"Key is Not present in the dictionary\")"
   ]
  },
  {
   "cell_type": "code",
   "execution_count": 63,
   "metadata": {},
   "outputs": [
    {
     "data": {
      "text/plain": [
       "'Key is Not present in the dictionary'"
      ]
     },
     "execution_count": 63,
     "metadata": {},
     "output_type": "execute_result"
    }
   ],
   "source": [
    "covid_data_dict['Case_Fatality '] "
   ]
  },
  {
   "cell_type": "code",
   "execution_count": 64,
   "metadata": {},
   "outputs": [
    {
     "data": {
      "text/html": [
       "<div>\n",
       "<style scoped>\n",
       "    .dataframe tbody tr th:only-of-type {\n",
       "        vertical-align: middle;\n",
       "    }\n",
       "\n",
       "    .dataframe tbody tr th {\n",
       "        vertical-align: top;\n",
       "    }\n",
       "\n",
       "    .dataframe thead th {\n",
       "        text-align: right;\n",
       "    }\n",
       "</style>\n",
       "<table border=\"1\" class=\"dataframe\">\n",
       "  <thead>\n",
       "    <tr style=\"text-align: right;\">\n",
       "      <th></th>\n",
       "      <th>Country_Region</th>\n",
       "      <th>Confirmed</th>\n",
       "      <th>Deaths</th>\n",
       "      <th>Case_Fatality_Ratio</th>\n",
       "      <th>Calculated Case Fatality Rate</th>\n",
       "    </tr>\n",
       "  </thead>\n",
       "  <tbody>\n",
       "    <tr>\n",
       "      <th>16</th>\n",
       "      <td>Austria</td>\n",
       "      <td>22439</td>\n",
       "      <td>724</td>\n",
       "      <td>3.226525</td>\n",
       "      <td>3.226525</td>\n",
       "    </tr>\n",
       "    <tr>\n",
       "      <th>23</th>\n",
       "      <td>Belgium</td>\n",
       "      <td>75647</td>\n",
       "      <td>9900</td>\n",
       "      <td>13.087102</td>\n",
       "      <td>13.087102</td>\n",
       "    </tr>\n",
       "    <tr>\n",
       "      <th>58</th>\n",
       "      <td>Bulgaria</td>\n",
       "      <td>13893</td>\n",
       "      <td>482</td>\n",
       "      <td>3.469373</td>\n",
       "      <td>3.469373</td>\n",
       "    </tr>\n",
       "    <tr>\n",
       "      <th>168</th>\n",
       "      <td>Croatia</td>\n",
       "      <td>5870</td>\n",
       "      <td>160</td>\n",
       "      <td>2.725724</td>\n",
       "      <td>2.725724</td>\n",
       "    </tr>\n",
       "    <tr>\n",
       "      <th>170</th>\n",
       "      <td>Cyprus</td>\n",
       "      <td>1291</td>\n",
       "      <td>20</td>\n",
       "      <td>1.549187</td>\n",
       "      <td>1.549187</td>\n",
       "    </tr>\n",
       "    <tr>\n",
       "      <th>...</th>\n",
       "      <td>...</td>\n",
       "      <td>...</td>\n",
       "      <td>...</td>\n",
       "      <td>...</td>\n",
       "      <td>...</td>\n",
       "    </tr>\n",
       "    <tr>\n",
       "      <th>614</th>\n",
       "      <td>Sweden</td>\n",
       "      <td>1099</td>\n",
       "      <td>73</td>\n",
       "      <td>6.642402</td>\n",
       "      <td>6.642402</td>\n",
       "    </tr>\n",
       "    <tr>\n",
       "      <th>615</th>\n",
       "      <td>Sweden</td>\n",
       "      <td>925</td>\n",
       "      <td>31</td>\n",
       "      <td>3.351351</td>\n",
       "      <td>3.351351</td>\n",
       "    </tr>\n",
       "    <tr>\n",
       "      <th>616</th>\n",
       "      <td>Sweden</td>\n",
       "      <td>1824</td>\n",
       "      <td>132</td>\n",
       "      <td>7.236842</td>\n",
       "      <td>7.236842</td>\n",
       "    </tr>\n",
       "    <tr>\n",
       "      <th>617</th>\n",
       "      <td>Sweden</td>\n",
       "      <td>2695</td>\n",
       "      <td>180</td>\n",
       "      <td>6.679035</td>\n",
       "      <td>6.679035</td>\n",
       "    </tr>\n",
       "    <tr>\n",
       "      <th>618</th>\n",
       "      <td>Sweden</td>\n",
       "      <td>19204</td>\n",
       "      <td>842</td>\n",
       "      <td>4.384503</td>\n",
       "      <td>4.384503</td>\n",
       "    </tr>\n",
       "  </tbody>\n",
       "</table>\n",
       "<p>130 rows × 5 columns</p>\n",
       "</div>"
      ],
      "text/plain": [
       "    Country_Region  Confirmed  Deaths  Case_Fatality_Ratio  \\\n",
       "16         Austria      22439     724             3.226525   \n",
       "23         Belgium      75647    9900            13.087102   \n",
       "58        Bulgaria      13893     482             3.469373   \n",
       "168        Croatia       5870     160             2.725724   \n",
       "170         Cyprus       1291      20             1.549187   \n",
       "..             ...        ...     ...                  ...   \n",
       "614         Sweden       1099      73             6.642402   \n",
       "615         Sweden        925      31             3.351351   \n",
       "616         Sweden       1824     132             7.236842   \n",
       "617         Sweden       2695     180             6.679035   \n",
       "618         Sweden      19204     842             4.384503   \n",
       "\n",
       "     Calculated Case Fatality Rate  \n",
       "16                        3.226525  \n",
       "23                       13.087102  \n",
       "58                        3.469373  \n",
       "168                       2.725724  \n",
       "170                       1.549187  \n",
       "..                             ...  \n",
       "614                       6.642402  \n",
       "615                       3.351351  \n",
       "616                       7.236842  \n",
       "617                       6.679035  \n",
       "618                       4.384503  \n",
       "\n",
       "[130 rows x 5 columns]"
      ]
     },
     "execution_count": 64,
     "metadata": {},
     "output_type": "execute_result"
    }
   ],
   "source": [
    "#Problem 8: Compare the Case Fatality Rate in the EU to that in the US and North America\n",
    "#create filter\n",
    "is_eu = prod_df['Country_Region'].isin(eu) \n",
    "\n",
    "#Create a dictionary of confirmed cases in the EU.\n",
    "prod_df[is_eu]['Country_Region']\n",
    "\n",
    "#cfr : total deaths/total confirmed * 100\n",
    "df_eu_cfr = pd.DataFrame(prod_df[is_eu][['Country_Region','Confirmed','Deaths','Case_Fatality_Ratio']]  )\n",
    "\n",
    "df_eu_cfr['Calculated Case Fatality Rate'] = df_eu_cfr['Deaths']/df_eu_cfr['Confirmed'] * 100\n",
    " \n",
    "df_eu_cfr"
   ]
  },
  {
   "cell_type": "code",
   "execution_count": 66,
   "metadata": {},
   "outputs": [],
   "source": [
    "# countries in North America\n",
    "na = ['Antigua and Barbuda',\n",
    "'Bahamas',\n",
    "'Barbados',\n",
    "'Belize',\n",
    "'Canada',\n",
    "'Costa Rica',\n",
    "'Cuba',\n",
    "'Dominica',\n",
    "'Dominican Republic',\n",
    "'El Salvador',\n",
    "'Grenada',\n",
    "'Guatemala',\n",
    "'Haiti',\n",
    "'Honduras',\n",
    "'Jamaica',\n",
    "'Mexico',\n",
    "'Nicaragua',\n",
    "'Panama',\n",
    "'Saint Kitts and Nevis',\n",
    "'Saint Lucia',\n",
    "'Saint Vincent and the Grenadines',\n",
    "'Trinidad and Tobago',\n",
    "'US']"
   ]
  },
  {
   "cell_type": "code",
   "execution_count": 67,
   "metadata": {},
   "outputs": [
    {
     "data": {
      "text/html": [
       "<div>\n",
       "<style scoped>\n",
       "    .dataframe tbody tr th:only-of-type {\n",
       "        vertical-align: middle;\n",
       "    }\n",
       "\n",
       "    .dataframe tbody tr th {\n",
       "        vertical-align: top;\n",
       "    }\n",
       "\n",
       "    .dataframe thead th {\n",
       "        text-align: right;\n",
       "    }\n",
       "</style>\n",
       "<table border=\"1\" class=\"dataframe\">\n",
       "  <thead>\n",
       "    <tr style=\"text-align: right;\">\n",
       "      <th></th>\n",
       "      <th>Country_Region</th>\n",
       "      <th>Confirmed</th>\n",
       "      <th>Deaths</th>\n",
       "      <th>Case_Fatality_Ratio</th>\n",
       "      <th>Calculated Case Fatality Rate</th>\n",
       "    </tr>\n",
       "  </thead>\n",
       "  <tbody>\n",
       "    <tr>\n",
       "      <th>5</th>\n",
       "      <td>Antigua and Barbuda</td>\n",
       "      <td>92</td>\n",
       "      <td>3</td>\n",
       "      <td>3.260870</td>\n",
       "      <td>3.260870</td>\n",
       "    </tr>\n",
       "    <tr>\n",
       "      <th>18</th>\n",
       "      <td>Bahamas</td>\n",
       "      <td>1036</td>\n",
       "      <td>15</td>\n",
       "      <td>1.447876</td>\n",
       "      <td>1.447876</td>\n",
       "    </tr>\n",
       "    <tr>\n",
       "      <th>21</th>\n",
       "      <td>Barbados</td>\n",
       "      <td>144</td>\n",
       "      <td>7</td>\n",
       "      <td>4.861111</td>\n",
       "      <td>4.861111</td>\n",
       "    </tr>\n",
       "    <tr>\n",
       "      <th>24</th>\n",
       "      <td>Belize</td>\n",
       "      <td>210</td>\n",
       "      <td>2</td>\n",
       "      <td>0.952381</td>\n",
       "      <td>0.952381</td>\n",
       "    </tr>\n",
       "    <tr>\n",
       "      <th>65</th>\n",
       "      <td>Canada</td>\n",
       "      <td>11893</td>\n",
       "      <td>217</td>\n",
       "      <td>1.824603</td>\n",
       "      <td>1.824603</td>\n",
       "    </tr>\n",
       "    <tr>\n",
       "      <th>...</th>\n",
       "      <td>...</td>\n",
       "      <td>...</td>\n",
       "      <td>...</td>\n",
       "      <td>...</td>\n",
       "      <td>...</td>\n",
       "    </tr>\n",
       "    <tr>\n",
       "      <th>3883</th>\n",
       "      <td>US</td>\n",
       "      <td>373</td>\n",
       "      <td>0</td>\n",
       "      <td>0.000000</td>\n",
       "      <td>0.000000</td>\n",
       "    </tr>\n",
       "    <tr>\n",
       "      <th>3884</th>\n",
       "      <td>US</td>\n",
       "      <td>278</td>\n",
       "      <td>0</td>\n",
       "      <td>0.000000</td>\n",
       "      <td>0.000000</td>\n",
       "    </tr>\n",
       "    <tr>\n",
       "      <th>3885</th>\n",
       "      <td>US</td>\n",
       "      <td>0</td>\n",
       "      <td>28</td>\n",
       "      <td>-99.000000</td>\n",
       "      <td>inf</td>\n",
       "    </tr>\n",
       "    <tr>\n",
       "      <th>3886</th>\n",
       "      <td>US</td>\n",
       "      <td>82</td>\n",
       "      <td>0</td>\n",
       "      <td>0.000000</td>\n",
       "      <td>0.000000</td>\n",
       "    </tr>\n",
       "    <tr>\n",
       "      <th>3887</th>\n",
       "      <td>US</td>\n",
       "      <td>5</td>\n",
       "      <td>0</td>\n",
       "      <td>0.000000</td>\n",
       "      <td>0.000000</td>\n",
       "    </tr>\n",
       "  </tbody>\n",
       "</table>\n",
       "<p>3323 rows × 5 columns</p>\n",
       "</div>"
      ],
      "text/plain": [
       "           Country_Region  Confirmed  Deaths  Case_Fatality_Ratio  \\\n",
       "5     Antigua and Barbuda         92       3             3.260870   \n",
       "18                Bahamas       1036      15             1.447876   \n",
       "21               Barbados        144       7             4.861111   \n",
       "24                 Belize        210       2             0.952381   \n",
       "65                 Canada      11893     217             1.824603   \n",
       "...                   ...        ...     ...                  ...   \n",
       "3883                   US        373       0             0.000000   \n",
       "3884                   US        278       0             0.000000   \n",
       "3885                   US          0      28           -99.000000   \n",
       "3886                   US         82       0             0.000000   \n",
       "3887                   US          5       0             0.000000   \n",
       "\n",
       "      Calculated Case Fatality Rate  \n",
       "5                          3.260870  \n",
       "18                         1.447876  \n",
       "21                         4.861111  \n",
       "24                         0.952381  \n",
       "65                         1.824603  \n",
       "...                             ...  \n",
       "3883                       0.000000  \n",
       "3884                       0.000000  \n",
       "3885                            inf  \n",
       "3886                       0.000000  \n",
       "3887                       0.000000  \n",
       "\n",
       "[3323 rows x 5 columns]"
      ]
     },
     "execution_count": 67,
     "metadata": {},
     "output_type": "execute_result"
    }
   ],
   "source": [
    "#create filter\n",
    "is_na = prod_df['Country_Region'].isin(na) \n",
    "\n",
    "#Create a dictionary of confirmed cases in the EU.\n",
    "prod_df[is_na]['Country_Region']\n",
    "\n",
    "#cfr : total deaths/total confirmed * 100\n",
    "df_na_cfr = pd.DataFrame(prod_df[is_na][['Country_Region','Confirmed','Deaths','Case_Fatality_Ratio']]  )\n",
    "\n",
    "df_na_cfr['Calculated Case Fatality Rate'] = df_na_cfr['Deaths']/df_na_cfr['Confirmed']  * 100\n",
    " \n",
    "df_na_cfr"
   ]
  },
  {
   "cell_type": "code",
   "execution_count": 68,
   "metadata": {},
   "outputs": [
    {
     "data": {
      "text/html": [
       "<div>\n",
       "<style scoped>\n",
       "    .dataframe tbody tr th:only-of-type {\n",
       "        vertical-align: middle;\n",
       "    }\n",
       "\n",
       "    .dataframe tbody tr th {\n",
       "        vertical-align: top;\n",
       "    }\n",
       "\n",
       "    .dataframe thead th {\n",
       "        text-align: right;\n",
       "    }\n",
       "</style>\n",
       "<table border=\"1\" class=\"dataframe\">\n",
       "  <thead>\n",
       "    <tr style=\"text-align: right;\">\n",
       "      <th></th>\n",
       "      <th>Country_Region</th>\n",
       "      <th>Confirmed</th>\n",
       "      <th>Deaths</th>\n",
       "      <th>Case_Fatality_Ratio</th>\n",
       "      <th>Calculated Case Fatality Rate</th>\n",
       "    </tr>\n",
       "  </thead>\n",
       "  <tbody>\n",
       "    <tr>\n",
       "      <th>630</th>\n",
       "      <td>US</td>\n",
       "      <td>1188</td>\n",
       "      <td>22</td>\n",
       "      <td>1.851852</td>\n",
       "      <td>1.851852</td>\n",
       "    </tr>\n",
       "    <tr>\n",
       "      <th>631</th>\n",
       "      <td>US</td>\n",
       "      <td>3710</td>\n",
       "      <td>29</td>\n",
       "      <td>0.781671</td>\n",
       "      <td>0.781671</td>\n",
       "    </tr>\n",
       "    <tr>\n",
       "      <th>632</th>\n",
       "      <td>US</td>\n",
       "      <td>581</td>\n",
       "      <td>6</td>\n",
       "      <td>1.032702</td>\n",
       "      <td>1.032702</td>\n",
       "    </tr>\n",
       "    <tr>\n",
       "      <th>633</th>\n",
       "      <td>US</td>\n",
       "      <td>453</td>\n",
       "      <td>5</td>\n",
       "      <td>1.103753</td>\n",
       "      <td>1.103753</td>\n",
       "    </tr>\n",
       "    <tr>\n",
       "      <th>634</th>\n",
       "      <td>US</td>\n",
       "      <td>825</td>\n",
       "      <td>5</td>\n",
       "      <td>0.606061</td>\n",
       "      <td>0.606061</td>\n",
       "    </tr>\n",
       "    <tr>\n",
       "      <th>...</th>\n",
       "      <td>...</td>\n",
       "      <td>...</td>\n",
       "      <td>...</td>\n",
       "      <td>...</td>\n",
       "      <td>...</td>\n",
       "    </tr>\n",
       "    <tr>\n",
       "      <th>3883</th>\n",
       "      <td>US</td>\n",
       "      <td>373</td>\n",
       "      <td>0</td>\n",
       "      <td>0.000000</td>\n",
       "      <td>0.000000</td>\n",
       "    </tr>\n",
       "    <tr>\n",
       "      <th>3884</th>\n",
       "      <td>US</td>\n",
       "      <td>278</td>\n",
       "      <td>0</td>\n",
       "      <td>0.000000</td>\n",
       "      <td>0.000000</td>\n",
       "    </tr>\n",
       "    <tr>\n",
       "      <th>3885</th>\n",
       "      <td>US</td>\n",
       "      <td>0</td>\n",
       "      <td>28</td>\n",
       "      <td>-99.000000</td>\n",
       "      <td>inf</td>\n",
       "    </tr>\n",
       "    <tr>\n",
       "      <th>3886</th>\n",
       "      <td>US</td>\n",
       "      <td>82</td>\n",
       "      <td>0</td>\n",
       "      <td>0.000000</td>\n",
       "      <td>0.000000</td>\n",
       "    </tr>\n",
       "    <tr>\n",
       "      <th>3887</th>\n",
       "      <td>US</td>\n",
       "      <td>5</td>\n",
       "      <td>0</td>\n",
       "      <td>0.000000</td>\n",
       "      <td>0.000000</td>\n",
       "    </tr>\n",
       "  </tbody>\n",
       "</table>\n",
       "<p>3258 rows × 5 columns</p>\n",
       "</div>"
      ],
      "text/plain": [
       "     Country_Region  Confirmed  Deaths  Case_Fatality_Ratio  \\\n",
       "630              US       1188      22             1.851852   \n",
       "631              US       3710      29             0.781671   \n",
       "632              US        581       6             1.032702   \n",
       "633              US        453       5             1.103753   \n",
       "634              US        825       5             0.606061   \n",
       "...             ...        ...     ...                  ...   \n",
       "3883             US        373       0             0.000000   \n",
       "3884             US        278       0             0.000000   \n",
       "3885             US          0      28           -99.000000   \n",
       "3886             US         82       0             0.000000   \n",
       "3887             US          5       0             0.000000   \n",
       "\n",
       "      Calculated Case Fatality Rate  \n",
       "630                        1.851852  \n",
       "631                        0.781671  \n",
       "632                        1.032702  \n",
       "633                        1.103753  \n",
       "634                        0.606061  \n",
       "...                             ...  \n",
       "3883                       0.000000  \n",
       "3884                       0.000000  \n",
       "3885                            inf  \n",
       "3886                       0.000000  \n",
       "3887                       0.000000  \n",
       "\n",
       "[3258 rows x 5 columns]"
      ]
     },
     "execution_count": 68,
     "metadata": {},
     "output_type": "execute_result"
    }
   ],
   "source": [
    "#create filter\n",
    "is_us = prod_df['Country_Region'] == 'US'\n",
    "\n",
    "#Create a dictionary of confirmed cases in the EU.\n",
    "prod_df[is_us]['Country_Region']\n",
    "\n",
    "#cfr : total deaths/total confirmed * 100\n",
    "df_us_cfr = pd.DataFrame(prod_df[is_us][['Country_Region','Confirmed','Deaths','Case_Fatality_Ratio']]  )\n",
    "\n",
    "df_us_cfr['Calculated Case Fatality Rate'] = df_us_cfr['Deaths']/df_us_cfr['Confirmed'] * 100\n",
    " \n",
    "df_us_cfr"
   ]
  },
  {
   "cell_type": "code",
   "execution_count": 69,
   "metadata": {},
   "outputs": [
    {
     "data": {
      "text/html": [
       "<div>\n",
       "<style scoped>\n",
       "    .dataframe tbody tr th:only-of-type {\n",
       "        vertical-align: middle;\n",
       "    }\n",
       "\n",
       "    .dataframe tbody tr th {\n",
       "        vertical-align: top;\n",
       "    }\n",
       "\n",
       "    .dataframe thead th {\n",
       "        text-align: right;\n",
       "    }\n",
       "</style>\n",
       "<table border=\"1\" class=\"dataframe\">\n",
       "  <thead>\n",
       "    <tr style=\"text-align: right;\">\n",
       "      <th></th>\n",
       "      <th>Country_Region</th>\n",
       "      <th>Confirmed</th>\n",
       "      <th>Deaths</th>\n",
       "      <th>Case_Fatality_Ratio</th>\n",
       "      <th>Calculated Case Fatality Rate</th>\n",
       "    </tr>\n",
       "  </thead>\n",
       "  <tbody>\n",
       "    <tr>\n",
       "      <th>5</th>\n",
       "      <td>Antigua and Barbuda</td>\n",
       "      <td>92</td>\n",
       "      <td>3</td>\n",
       "      <td>3.260870</td>\n",
       "      <td>3.260870</td>\n",
       "    </tr>\n",
       "    <tr>\n",
       "      <th>18</th>\n",
       "      <td>Bahamas</td>\n",
       "      <td>1036</td>\n",
       "      <td>15</td>\n",
       "      <td>1.447876</td>\n",
       "      <td>1.447876</td>\n",
       "    </tr>\n",
       "    <tr>\n",
       "      <th>21</th>\n",
       "      <td>Barbados</td>\n",
       "      <td>144</td>\n",
       "      <td>7</td>\n",
       "      <td>4.861111</td>\n",
       "      <td>4.861111</td>\n",
       "    </tr>\n",
       "    <tr>\n",
       "      <th>24</th>\n",
       "      <td>Belize</td>\n",
       "      <td>210</td>\n",
       "      <td>2</td>\n",
       "      <td>0.952381</td>\n",
       "      <td>0.952381</td>\n",
       "    </tr>\n",
       "    <tr>\n",
       "      <th>65</th>\n",
       "      <td>Canada</td>\n",
       "      <td>11893</td>\n",
       "      <td>217</td>\n",
       "      <td>1.824603</td>\n",
       "      <td>1.824603</td>\n",
       "    </tr>\n",
       "    <tr>\n",
       "      <th>...</th>\n",
       "      <td>...</td>\n",
       "      <td>...</td>\n",
       "      <td>...</td>\n",
       "      <td>...</td>\n",
       "      <td>...</td>\n",
       "    </tr>\n",
       "    <tr>\n",
       "      <th>3883</th>\n",
       "      <td>US</td>\n",
       "      <td>373</td>\n",
       "      <td>0</td>\n",
       "      <td>0.000000</td>\n",
       "      <td>0.000000</td>\n",
       "    </tr>\n",
       "    <tr>\n",
       "      <th>3884</th>\n",
       "      <td>US</td>\n",
       "      <td>278</td>\n",
       "      <td>0</td>\n",
       "      <td>0.000000</td>\n",
       "      <td>0.000000</td>\n",
       "    </tr>\n",
       "    <tr>\n",
       "      <th>3885</th>\n",
       "      <td>US</td>\n",
       "      <td>0</td>\n",
       "      <td>28</td>\n",
       "      <td>-99.000000</td>\n",
       "      <td>inf</td>\n",
       "    </tr>\n",
       "    <tr>\n",
       "      <th>3886</th>\n",
       "      <td>US</td>\n",
       "      <td>82</td>\n",
       "      <td>0</td>\n",
       "      <td>0.000000</td>\n",
       "      <td>0.000000</td>\n",
       "    </tr>\n",
       "    <tr>\n",
       "      <th>3887</th>\n",
       "      <td>US</td>\n",
       "      <td>5</td>\n",
       "      <td>0</td>\n",
       "      <td>0.000000</td>\n",
       "      <td>0.000000</td>\n",
       "    </tr>\n",
       "  </tbody>\n",
       "</table>\n",
       "<p>3323 rows × 5 columns</p>\n",
       "</div>"
      ],
      "text/plain": [
       "           Country_Region  Confirmed  Deaths  Case_Fatality_Ratio  \\\n",
       "5     Antigua and Barbuda         92       3             3.260870   \n",
       "18                Bahamas       1036      15             1.447876   \n",
       "21               Barbados        144       7             4.861111   \n",
       "24                 Belize        210       2             0.952381   \n",
       "65                 Canada      11893     217             1.824603   \n",
       "...                   ...        ...     ...                  ...   \n",
       "3883                   US        373       0             0.000000   \n",
       "3884                   US        278       0             0.000000   \n",
       "3885                   US          0      28           -99.000000   \n",
       "3886                   US         82       0             0.000000   \n",
       "3887                   US          5       0             0.000000   \n",
       "\n",
       "      Calculated Case Fatality Rate  \n",
       "5                          3.260870  \n",
       "18                         1.447876  \n",
       "21                         4.861111  \n",
       "24                         0.952381  \n",
       "65                         1.824603  \n",
       "...                             ...  \n",
       "3883                       0.000000  \n",
       "3884                       0.000000  \n",
       "3885                            inf  \n",
       "3886                       0.000000  \n",
       "3887                       0.000000  \n",
       "\n",
       "[3323 rows x 5 columns]"
      ]
     },
     "execution_count": 69,
     "metadata": {},
     "output_type": "execute_result"
    }
   ],
   "source": [
    "#create filter\n",
    "is_na = prod_df['Country_Region'].isin(na) \n",
    "\n",
    "#Create a dictionary of confirmed cases in the EU.\n",
    "prod_df[is_na]['Country_Region']\n",
    "\n",
    "#cfr : total deaths/total confirmed * 100\n",
    "df_na_cfr = pd.DataFrame(prod_df[is_na][['Country_Region','Confirmed','Deaths','Case_Fatality_Ratio']]  )\n",
    "\n",
    "df_na_cfr['Calculated Case Fatality Rate'] = df_na_cfr['Deaths']/df_na_cfr['Confirmed']  * 100\n",
    " \n",
    "df_na_cfr"
   ]
  },
  {
   "cell_type": "code",
   "execution_count": 70,
   "metadata": {},
   "outputs": [
    {
     "data": {
      "text/html": [
       "<div>\n",
       "<style scoped>\n",
       "    .dataframe tbody tr th:only-of-type {\n",
       "        vertical-align: middle;\n",
       "    }\n",
       "\n",
       "    .dataframe tbody tr th {\n",
       "        vertical-align: top;\n",
       "    }\n",
       "\n",
       "    .dataframe thead th {\n",
       "        text-align: right;\n",
       "    }\n",
       "</style>\n",
       "<table border=\"1\" class=\"dataframe\">\n",
       "  <thead>\n",
       "    <tr style=\"text-align: right;\">\n",
       "      <th></th>\n",
       "      <th>Country_Region</th>\n",
       "      <th>Confirmed</th>\n",
       "      <th>Deaths</th>\n",
       "      <th>Case_Fatality_Ratio</th>\n",
       "      <th>Calculated Case Fatality Rate</th>\n",
       "    </tr>\n",
       "  </thead>\n",
       "  <tbody>\n",
       "    <tr>\n",
       "      <th>630</th>\n",
       "      <td>US</td>\n",
       "      <td>1188</td>\n",
       "      <td>22</td>\n",
       "      <td>1.851852</td>\n",
       "      <td>1.851852</td>\n",
       "    </tr>\n",
       "    <tr>\n",
       "      <th>631</th>\n",
       "      <td>US</td>\n",
       "      <td>3710</td>\n",
       "      <td>29</td>\n",
       "      <td>0.781671</td>\n",
       "      <td>0.781671</td>\n",
       "    </tr>\n",
       "    <tr>\n",
       "      <th>632</th>\n",
       "      <td>US</td>\n",
       "      <td>581</td>\n",
       "      <td>6</td>\n",
       "      <td>1.032702</td>\n",
       "      <td>1.032702</td>\n",
       "    </tr>\n",
       "    <tr>\n",
       "      <th>633</th>\n",
       "      <td>US</td>\n",
       "      <td>453</td>\n",
       "      <td>5</td>\n",
       "      <td>1.103753</td>\n",
       "      <td>1.103753</td>\n",
       "    </tr>\n",
       "    <tr>\n",
       "      <th>634</th>\n",
       "      <td>US</td>\n",
       "      <td>825</td>\n",
       "      <td>5</td>\n",
       "      <td>0.606061</td>\n",
       "      <td>0.606061</td>\n",
       "    </tr>\n",
       "    <tr>\n",
       "      <th>...</th>\n",
       "      <td>...</td>\n",
       "      <td>...</td>\n",
       "      <td>...</td>\n",
       "      <td>...</td>\n",
       "      <td>...</td>\n",
       "    </tr>\n",
       "    <tr>\n",
       "      <th>3883</th>\n",
       "      <td>US</td>\n",
       "      <td>373</td>\n",
       "      <td>0</td>\n",
       "      <td>0.000000</td>\n",
       "      <td>0.000000</td>\n",
       "    </tr>\n",
       "    <tr>\n",
       "      <th>3884</th>\n",
       "      <td>US</td>\n",
       "      <td>278</td>\n",
       "      <td>0</td>\n",
       "      <td>0.000000</td>\n",
       "      <td>0.000000</td>\n",
       "    </tr>\n",
       "    <tr>\n",
       "      <th>3885</th>\n",
       "      <td>US</td>\n",
       "      <td>0</td>\n",
       "      <td>28</td>\n",
       "      <td>-99.000000</td>\n",
       "      <td>inf</td>\n",
       "    </tr>\n",
       "    <tr>\n",
       "      <th>3886</th>\n",
       "      <td>US</td>\n",
       "      <td>82</td>\n",
       "      <td>0</td>\n",
       "      <td>0.000000</td>\n",
       "      <td>0.000000</td>\n",
       "    </tr>\n",
       "    <tr>\n",
       "      <th>3887</th>\n",
       "      <td>US</td>\n",
       "      <td>5</td>\n",
       "      <td>0</td>\n",
       "      <td>0.000000</td>\n",
       "      <td>0.000000</td>\n",
       "    </tr>\n",
       "  </tbody>\n",
       "</table>\n",
       "<p>3258 rows × 5 columns</p>\n",
       "</div>"
      ],
      "text/plain": [
       "     Country_Region  Confirmed  Deaths  Case_Fatality_Ratio  \\\n",
       "630              US       1188      22             1.851852   \n",
       "631              US       3710      29             0.781671   \n",
       "632              US        581       6             1.032702   \n",
       "633              US        453       5             1.103753   \n",
       "634              US        825       5             0.606061   \n",
       "...             ...        ...     ...                  ...   \n",
       "3883             US        373       0             0.000000   \n",
       "3884             US        278       0             0.000000   \n",
       "3885             US          0      28           -99.000000   \n",
       "3886             US         82       0             0.000000   \n",
       "3887             US          5       0             0.000000   \n",
       "\n",
       "      Calculated Case Fatality Rate  \n",
       "630                        1.851852  \n",
       "631                        0.781671  \n",
       "632                        1.032702  \n",
       "633                        1.103753  \n",
       "634                        0.606061  \n",
       "...                             ...  \n",
       "3883                       0.000000  \n",
       "3884                       0.000000  \n",
       "3885                            inf  \n",
       "3886                       0.000000  \n",
       "3887                       0.000000  \n",
       "\n",
       "[3258 rows x 5 columns]"
      ]
     },
     "execution_count": 70,
     "metadata": {},
     "output_type": "execute_result"
    }
   ],
   "source": [
    "#create filter\n",
    "is_us = prod_df['Country_Region'] == 'US'\n",
    "\n",
    "#Create a dictionary of confirmed cases in the EU.\n",
    "prod_df[is_us]['Country_Region']\n",
    "\n",
    "#cfr : total deaths/total confirmed * 100\n",
    "df_us_cfr = pd.DataFrame(prod_df[is_us][['Country_Region','Confirmed','Deaths','Case_Fatality_Ratio']]  )\n",
    "\n",
    "df_us_cfr['Calculated Case Fatality Rate'] = df_us_cfr['Deaths']/df_us_cfr['Confirmed'] * 100\n",
    " \n",
    "df_us_cfr"
   ]
  },
  {
   "cell_type": "code",
   "execution_count": 71,
   "metadata": {},
   "outputs": [],
   "source": [
    "# write a function\n",
    "\n",
    "def create_df_calc_cfr(arg_region,mylist):\n",
    "    if (arg_region == 'na') | (arg_region == 'eu'):\n",
    "        is_in =  prod_df['Country_Region'].isin(mylist)\n",
    "        prod_df[is_in]['Country_Region']\n",
    "        df_isin_cfr = pd.DataFrame(prod_df[is_in][['Country_Region','Confirmed','Deaths','Case_Fatality_Ratio']]  )\n",
    "        df_isin_cfr['Calculated Case Fatality Rate'] = df_us_cfr['Deaths']/df_us_cfr['Confirmed']  * 100\n",
    "    \n",
    "    else:\n",
    "        is_in =  prod_df['Country_Region'] == arg_region\n",
    "        prod_df[is_in]['Country_Region']\n",
    "        df_isin_cfr = pd.DataFrame(prod_df[is_us][['Country_Region','Confirmed','Deaths','Case_Fatality_Ratio']]  )\n",
    "        df_isin_cfr['Calculated Case Fatality Rate'] = df_us_cfr['Deaths']/df_us_cfr['Confirmed']  * 100\n",
    "    return df_isin_cfr"
   ]
  },
  {
   "cell_type": "code",
   "execution_count": 72,
   "metadata": {},
   "outputs": [
    {
     "data": {
      "text/html": [
       "<div>\n",
       "<style scoped>\n",
       "    .dataframe tbody tr th:only-of-type {\n",
       "        vertical-align: middle;\n",
       "    }\n",
       "\n",
       "    .dataframe tbody tr th {\n",
       "        vertical-align: top;\n",
       "    }\n",
       "\n",
       "    .dataframe thead th {\n",
       "        text-align: right;\n",
       "    }\n",
       "</style>\n",
       "<table border=\"1\" class=\"dataframe\">\n",
       "  <thead>\n",
       "    <tr style=\"text-align: right;\">\n",
       "      <th></th>\n",
       "      <th>Country_Region</th>\n",
       "      <th>Confirmed</th>\n",
       "      <th>Deaths</th>\n",
       "      <th>Case_Fatality_Ratio</th>\n",
       "      <th>Calculated Case Fatality Rate</th>\n",
       "    </tr>\n",
       "  </thead>\n",
       "  <tbody>\n",
       "    <tr>\n",
       "      <th>630</th>\n",
       "      <td>US</td>\n",
       "      <td>1188</td>\n",
       "      <td>22</td>\n",
       "      <td>1.851852</td>\n",
       "      <td>1.851852</td>\n",
       "    </tr>\n",
       "    <tr>\n",
       "      <th>631</th>\n",
       "      <td>US</td>\n",
       "      <td>3710</td>\n",
       "      <td>29</td>\n",
       "      <td>0.781671</td>\n",
       "      <td>0.781671</td>\n",
       "    </tr>\n",
       "    <tr>\n",
       "      <th>632</th>\n",
       "      <td>US</td>\n",
       "      <td>581</td>\n",
       "      <td>6</td>\n",
       "      <td>1.032702</td>\n",
       "      <td>1.032702</td>\n",
       "    </tr>\n",
       "    <tr>\n",
       "      <th>633</th>\n",
       "      <td>US</td>\n",
       "      <td>453</td>\n",
       "      <td>5</td>\n",
       "      <td>1.103753</td>\n",
       "      <td>1.103753</td>\n",
       "    </tr>\n",
       "    <tr>\n",
       "      <th>634</th>\n",
       "      <td>US</td>\n",
       "      <td>825</td>\n",
       "      <td>5</td>\n",
       "      <td>0.606061</td>\n",
       "      <td>0.606061</td>\n",
       "    </tr>\n",
       "    <tr>\n",
       "      <th>...</th>\n",
       "      <td>...</td>\n",
       "      <td>...</td>\n",
       "      <td>...</td>\n",
       "      <td>...</td>\n",
       "      <td>...</td>\n",
       "    </tr>\n",
       "    <tr>\n",
       "      <th>3883</th>\n",
       "      <td>US</td>\n",
       "      <td>373</td>\n",
       "      <td>0</td>\n",
       "      <td>0.000000</td>\n",
       "      <td>0.000000</td>\n",
       "    </tr>\n",
       "    <tr>\n",
       "      <th>3884</th>\n",
       "      <td>US</td>\n",
       "      <td>278</td>\n",
       "      <td>0</td>\n",
       "      <td>0.000000</td>\n",
       "      <td>0.000000</td>\n",
       "    </tr>\n",
       "    <tr>\n",
       "      <th>3885</th>\n",
       "      <td>US</td>\n",
       "      <td>0</td>\n",
       "      <td>28</td>\n",
       "      <td>-99.000000</td>\n",
       "      <td>inf</td>\n",
       "    </tr>\n",
       "    <tr>\n",
       "      <th>3886</th>\n",
       "      <td>US</td>\n",
       "      <td>82</td>\n",
       "      <td>0</td>\n",
       "      <td>0.000000</td>\n",
       "      <td>0.000000</td>\n",
       "    </tr>\n",
       "    <tr>\n",
       "      <th>3887</th>\n",
       "      <td>US</td>\n",
       "      <td>5</td>\n",
       "      <td>0</td>\n",
       "      <td>0.000000</td>\n",
       "      <td>0.000000</td>\n",
       "    </tr>\n",
       "  </tbody>\n",
       "</table>\n",
       "<p>3258 rows × 5 columns</p>\n",
       "</div>"
      ],
      "text/plain": [
       "     Country_Region  Confirmed  Deaths  Case_Fatality_Ratio  \\\n",
       "630              US       1188      22             1.851852   \n",
       "631              US       3710      29             0.781671   \n",
       "632              US        581       6             1.032702   \n",
       "633              US        453       5             1.103753   \n",
       "634              US        825       5             0.606061   \n",
       "...             ...        ...     ...                  ...   \n",
       "3883             US        373       0             0.000000   \n",
       "3884             US        278       0             0.000000   \n",
       "3885             US          0      28           -99.000000   \n",
       "3886             US         82       0             0.000000   \n",
       "3887             US          5       0             0.000000   \n",
       "\n",
       "      Calculated Case Fatality Rate  \n",
       "630                        1.851852  \n",
       "631                        0.781671  \n",
       "632                        1.032702  \n",
       "633                        1.103753  \n",
       "634                        0.606061  \n",
       "...                             ...  \n",
       "3883                       0.000000  \n",
       "3884                       0.000000  \n",
       "3885                            inf  \n",
       "3886                       0.000000  \n",
       "3887                       0.000000  \n",
       "\n",
       "[3258 rows x 5 columns]"
      ]
     },
     "execution_count": 72,
     "metadata": {},
     "output_type": "execute_result"
    }
   ],
   "source": [
    "create_df_calc_cfr('US',[])"
   ]
  },
  {
   "cell_type": "code",
   "execution_count": 73,
   "metadata": {},
   "outputs": [
    {
     "data": {
      "text/html": [
       "<div>\n",
       "<style scoped>\n",
       "    .dataframe tbody tr th:only-of-type {\n",
       "        vertical-align: middle;\n",
       "    }\n",
       "\n",
       "    .dataframe tbody tr th {\n",
       "        vertical-align: top;\n",
       "    }\n",
       "\n",
       "    .dataframe thead th {\n",
       "        text-align: right;\n",
       "    }\n",
       "</style>\n",
       "<table border=\"1\" class=\"dataframe\">\n",
       "  <thead>\n",
       "    <tr style=\"text-align: right;\">\n",
       "      <th></th>\n",
       "      <th>Country_Region</th>\n",
       "      <th>Confirmed</th>\n",
       "      <th>Deaths</th>\n",
       "      <th>Case_Fatality_Ratio</th>\n",
       "      <th>Calculated Case Fatality Rate</th>\n",
       "    </tr>\n",
       "  </thead>\n",
       "  <tbody>\n",
       "    <tr>\n",
       "      <th>5</th>\n",
       "      <td>Antigua and Barbuda</td>\n",
       "      <td>92</td>\n",
       "      <td>3</td>\n",
       "      <td>3.260870</td>\n",
       "      <td>NaN</td>\n",
       "    </tr>\n",
       "    <tr>\n",
       "      <th>18</th>\n",
       "      <td>Bahamas</td>\n",
       "      <td>1036</td>\n",
       "      <td>15</td>\n",
       "      <td>1.447876</td>\n",
       "      <td>NaN</td>\n",
       "    </tr>\n",
       "    <tr>\n",
       "      <th>21</th>\n",
       "      <td>Barbados</td>\n",
       "      <td>144</td>\n",
       "      <td>7</td>\n",
       "      <td>4.861111</td>\n",
       "      <td>NaN</td>\n",
       "    </tr>\n",
       "    <tr>\n",
       "      <th>24</th>\n",
       "      <td>Belize</td>\n",
       "      <td>210</td>\n",
       "      <td>2</td>\n",
       "      <td>0.952381</td>\n",
       "      <td>NaN</td>\n",
       "    </tr>\n",
       "    <tr>\n",
       "      <th>65</th>\n",
       "      <td>Canada</td>\n",
       "      <td>11893</td>\n",
       "      <td>217</td>\n",
       "      <td>1.824603</td>\n",
       "      <td>NaN</td>\n",
       "    </tr>\n",
       "    <tr>\n",
       "      <th>...</th>\n",
       "      <td>...</td>\n",
       "      <td>...</td>\n",
       "      <td>...</td>\n",
       "      <td>...</td>\n",
       "      <td>...</td>\n",
       "    </tr>\n",
       "    <tr>\n",
       "      <th>3883</th>\n",
       "      <td>US</td>\n",
       "      <td>373</td>\n",
       "      <td>0</td>\n",
       "      <td>0.000000</td>\n",
       "      <td>0.0</td>\n",
       "    </tr>\n",
       "    <tr>\n",
       "      <th>3884</th>\n",
       "      <td>US</td>\n",
       "      <td>278</td>\n",
       "      <td>0</td>\n",
       "      <td>0.000000</td>\n",
       "      <td>0.0</td>\n",
       "    </tr>\n",
       "    <tr>\n",
       "      <th>3885</th>\n",
       "      <td>US</td>\n",
       "      <td>0</td>\n",
       "      <td>28</td>\n",
       "      <td>-99.000000</td>\n",
       "      <td>inf</td>\n",
       "    </tr>\n",
       "    <tr>\n",
       "      <th>3886</th>\n",
       "      <td>US</td>\n",
       "      <td>82</td>\n",
       "      <td>0</td>\n",
       "      <td>0.000000</td>\n",
       "      <td>0.0</td>\n",
       "    </tr>\n",
       "    <tr>\n",
       "      <th>3887</th>\n",
       "      <td>US</td>\n",
       "      <td>5</td>\n",
       "      <td>0</td>\n",
       "      <td>0.000000</td>\n",
       "      <td>0.0</td>\n",
       "    </tr>\n",
       "  </tbody>\n",
       "</table>\n",
       "<p>3323 rows × 5 columns</p>\n",
       "</div>"
      ],
      "text/plain": [
       "           Country_Region  Confirmed  Deaths  Case_Fatality_Ratio  \\\n",
       "5     Antigua and Barbuda         92       3             3.260870   \n",
       "18                Bahamas       1036      15             1.447876   \n",
       "21               Barbados        144       7             4.861111   \n",
       "24                 Belize        210       2             0.952381   \n",
       "65                 Canada      11893     217             1.824603   \n",
       "...                   ...        ...     ...                  ...   \n",
       "3883                   US        373       0             0.000000   \n",
       "3884                   US        278       0             0.000000   \n",
       "3885                   US          0      28           -99.000000   \n",
       "3886                   US         82       0             0.000000   \n",
       "3887                   US          5       0             0.000000   \n",
       "\n",
       "      Calculated Case Fatality Rate  \n",
       "5                               NaN  \n",
       "18                              NaN  \n",
       "21                              NaN  \n",
       "24                              NaN  \n",
       "65                              NaN  \n",
       "...                             ...  \n",
       "3883                            0.0  \n",
       "3884                            0.0  \n",
       "3885                            inf  \n",
       "3886                            0.0  \n",
       "3887                            0.0  \n",
       "\n",
       "[3323 rows x 5 columns]"
      ]
     },
     "execution_count": 73,
     "metadata": {},
     "output_type": "execute_result"
    }
   ],
   "source": [
    "create_df_calc_cfr('na',na)"
   ]
  },
  {
   "cell_type": "code",
   "execution_count": null,
   "metadata": {},
   "outputs": [],
   "source": []
  }
 ],
 "metadata": {
  "anaconda-cloud": {},
  "kernelspec": {
   "display_name": "Python 3 (ipykernel)",
   "language": "python",
   "name": "python3"
  },
  "language_info": {
   "codemirror_mode": {
    "name": "ipython",
    "version": 3
   },
   "file_extension": ".py",
   "mimetype": "text/x-python",
   "name": "python",
   "nbconvert_exporter": "python",
   "pygments_lexer": "ipython3",
   "version": "3.9.12"
  },
  "toc": {
   "base_numbering": 1,
   "nav_menu": {},
   "number_sections": false,
   "sideBar": true,
   "skip_h1_title": false,
   "title_cell": "Table of Contents",
   "title_sidebar": "Contents",
   "toc_cell": false,
   "toc_position": {},
   "toc_section_display": true,
   "toc_window_display": false
  }
 },
 "nbformat": 4,
 "nbformat_minor": 2
}
